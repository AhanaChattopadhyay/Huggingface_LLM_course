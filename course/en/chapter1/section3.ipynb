{
  "cells": [
    {
      "cell_type": "markdown",
      "metadata": {
        "id": "z0FViU0RYhXu"
      },
      "source": [
        "# Transformers, what can they do?"
      ]
    },
    {
      "cell_type": "markdown",
      "metadata": {
        "id": "xRchZryKYhXv"
      },
      "source": [
        "Install the Transformers, Datasets, and Evaluate libraries to run this notebook."
      ]
    },
    {
      "cell_type": "code",
      "execution_count": null,
      "metadata": {
        "id": "cZ1UKO2BYhXv"
      },
      "outputs": [],
      "source": [
        "!pip install datasets evaluate transformers[sentencepiece]"
      ]
    },
    {
      "cell_type": "code",
      "execution_count": null,
      "metadata": {
        "id": "UdsssNAsYhXw"
      },
      "outputs": [],
      "source": [
        "from transformers import pipeline\n",
        "\n",
        "classifier = pipeline(\"sentiment-analysis\")\n",
        "classifier(\"I've been waiting for a HuggingFace course my whole life.\")"
      ]
    },
    {
      "cell_type": "code",
      "execution_count": null,
      "metadata": {
        "id": "6vEYeSiKYhXw"
      },
      "outputs": [],
      "source": [
        "classifier(\n",
        "    [\"I've been waiting for a HuggingFace course my whole life.\", \"I hate this so much!\"]\n",
        ")"
      ]
    },
    {
      "cell_type": "code",
      "execution_count": null,
      "metadata": {
        "id": "a7A_mSrbYhXw"
      },
      "outputs": [],
      "source": [
        "from transformers import pipeline\n",
        "\n",
        "classifier = pipeline(\"zero-shot-classification\")\n",
        "classifier(\n",
        "    \"This is a course about the Transformers library\",\n",
        "    candidate_labels=[\"education\", \"politics\", \"business\"],\n",
        ")"
      ]
    },
    {
      "cell_type": "code",
      "execution_count": null,
      "metadata": {
        "id": "CaqMZuOaYhXw"
      },
      "outputs": [],
      "source": [
        "from transformers import pipeline\n",
        "\n",
        "generator = pipeline(\"text-generation\")\n",
        "generator(\"In this course, we will teach you how to\")"
      ]
    },
    {
      "cell_type": "code",
      "execution_count": null,
      "metadata": {
        "id": "c-n3jV3uYhXw"
      },
      "outputs": [],
      "source": [
        "from transformers import pipeline\n",
        "\n",
        "generator = pipeline(\"text-generation\", model=\"distilgpt2\")\n",
        "generator(\n",
        "    \"In this course, we will teach you how to\",\n",
        "    max_length=30,\n",
        "    num_return_sequences=2,\n",
        ")"
      ]
    },
    {
      "cell_type": "code",
      "execution_count": null,
      "metadata": {
        "id": "W3TzsrVkYhXx"
      },
      "outputs": [],
      "source": [
        "from transformers import pipeline\n",
        "\n",
        "unmasker = pipeline(\"fill-mask\")\n",
        "unmasker(\"This course will teach you all about <mask> models.\", top_k=2)"
      ]
    },
    {
      "cell_type": "code",
      "execution_count": null,
      "metadata": {
        "id": "It5ADJRvYhXx"
      },
      "outputs": [],
      "source": [
        "from transformers import pipeline\n",
        "\n",
        "ner = pipeline(\"ner\", grouped_entities=True)\n",
        "ner(\"My name is Sylvain and I work at Hugging Face in Brooklyn.\")"
      ]
    },
    {
      "cell_type": "code",
      "execution_count": null,
      "metadata": {
        "id": "URYgUZGUYhXx"
      },
      "outputs": [],
      "source": [
        "from transformers import pipeline\n",
        "\n",
        "question_answerer = pipeline(\"question-answering\")\n",
        "question_answerer(\n",
        "    question=\"Where do I work?\",\n",
        "    context=\"My name is Sylvain and I work at Hugging Face in Brooklyn\",\n",
        ")"
      ]
    },
    {
      "cell_type": "code",
      "execution_count": null,
      "metadata": {
        "id": "Q7J3Bm2pYhXx"
      },
      "outputs": [],
      "source": [
        "from transformers import pipeline\n",
        "\n",
        "summarizer = pipeline(\"summarization\")\n",
        "summarizer(\n",
        "    \"\"\"\n",
        "    America has changed dramatically during recent years. Not only has the number of\n",
        "    graduates in traditional engineering disciplines such as mechanical, civil,\n",
        "    electrical, chemical, and aeronautical engineering declined, but in most of\n",
        "    the premier American universities engineering curricula now concentrate on\n",
        "    and encourage largely the study of engineering science. As a result, there\n",
        "    are declining offerings in engineering subjects dealing with infrastructure,\n",
        "    the environment, and related issues, and greater concentration on high\n",
        "    technology subjects, largely supporting increasingly complex scientific\n",
        "    developments. While the latter is important, it should not be at the expense\n",
        "    of more traditional engineering.\n",
        "\n",
        "    Rapidly developing economies such as China and India, as well as other\n",
        "    industrial countries in Europe and Asia, continue to encourage and advance\n",
        "    the teaching of engineering. Both China and India, respectively, graduate\n",
        "    six and eight times as many traditional engineers as does the United States.\n",
        "    Other industrial countries at minimum maintain their output, while America\n",
        "    suffers an increasingly serious decline in the number of engineering graduates\n",
        "    and a lack of well-educated engineers.\n",
        "\"\"\"\n",
        ")"
      ]
    },
    {
      "cell_type": "code",
      "execution_count": null,
      "metadata": {
        "id": "T1p54r0MYhXx"
      },
      "outputs": [],
      "source": [
        "from transformers import pipeline\n",
        "\n",
        "translator = pipeline(\"translation\", model=\"Helsinki-NLP/opus-mt-fr-en\")\n",
        "translator(\"Ce cours est produit par Hugging Face.\")"
      ]
    },
    {
      "cell_type": "markdown",
      "source": [
        "## Practice"
      ],
      "metadata": {
        "id": "sqjWHp2OYwR6"
      }
    },
    {
      "cell_type": "code",
      "source": [
        "#sentiment analysis\n",
        "from transformers import pipeline\n",
        "pipeline_sentiment = pipeline(\"sentiment-analysis\")\n",
        "pipeline_sentiment(\"I am tired of all this pressure related to PhD offers! I need a break.\")"
      ],
      "metadata": {
        "id": "5lVDwB92Yxt9"
      },
      "execution_count": null,
      "outputs": []
    },
    {
      "cell_type": "code",
      "source": [
        "#zero-shot classification\n",
        "pipeline_classifier = pipeline(\"zero-shot-classification\")\n",
        "pipeline_classifier(\n",
        "    \"I have a gift for your birthday.\",\n",
        "    candidate_labels=[\"economics\", \"history\", \"technology\"],\n",
        ")"
      ],
      "metadata": {
        "id": "IcpHYULUZEWZ"
      },
      "execution_count": null,
      "outputs": []
    },
    {
      "cell_type": "code",
      "source": [
        "#summarizer\n",
        "pipeline_summarizer = pipeline(\"summarization\")\n",
        "pipeline_summarizer(\n",
        "    \"\"\"\n",
        "    Donald Trump wants to “dictate” policies like those of far-right regimes in the 1930s, a leading billionaire investor has warned.\n",
        "\n",
        "Ray Dalio writes in a new book that the US president is acting like a chief executive without a board as he seeks to expand executive power even more aggressively than predecessors Andrew Jackson and Franklin D Roosevelt.\n",
        "\n",
        "Dalio, 75, is the founder of investment firm Bridgewater Associates, one of the world’s biggest hedge funds, and a rare critic of the system that generated his wealth. His book How Countries Go Broke: The Big Cycle addresses the national debt and Trump’s attacks on democratic norms. The Guardian obtained a copy.\n",
        "\"\"\"\n",
        ")"
      ],
      "metadata": {
        "id": "_GXk9rEmZvRL"
      },
      "execution_count": null,
      "outputs": []
    },
    {
      "cell_type": "code",
      "source": [
        "#translation\n",
        "pipeline_translator = pipeline(\"translation\", model=\"Helsinki-NLP/opus-mt-fr-en\")\n",
        "pipeline_translator(\"Le sel en excès dans l’alimentation favorise l’hypertension artérielle qui est un facteur de risque pour les maladies cardiovasculaires.\")"
      ],
      "metadata": {
        "id": "ry7T_Exaakb1"
      },
      "execution_count": null,
      "outputs": []
    },
    {
      "cell_type": "code",
      "source": [
        "#Q-A\n",
        "pipeline_qa = pipeline(\"question-answering\")\n",
        "pipeline_qa(\n",
        "    question=\"Whom do I love?\",\n",
        "    context=\"She loves Ambu. He is a great researcher.\",\n",
        ")"
      ],
      "metadata": {
        "id": "6pgjn-xja7kD"
      },
      "execution_count": null,
      "outputs": []
    },
    {
      "cell_type": "code",
      "source": [
        "#named entity recognition\n",
        "pipeline_ner = pipeline(\"ner\", grouped_entities=True)\n",
        "pipeline_ner(\"That man works at Google Inc.\")"
      ],
      "metadata": {
        "id": "GEVgWEjtbQfp"
      },
      "execution_count": null,
      "outputs": []
    },
    {
      "cell_type": "code",
      "source": [
        "#text generation\n",
        "pipeline_gen = pipeline(\"text-generation\", model='distilgpt2')\n",
        "pipeline_gen(\"She fell in love with \",\n",
        "             max_length = 50,\n",
        "             num_return_sequences = 6)\n",
        ""
      ],
      "metadata": {
        "id": "HV3oxcyGcOsb"
      },
      "execution_count": null,
      "outputs": []
    },
    {
      "cell_type": "code",
      "source": [
        "#masking\n",
        "pipeline_unmask = pipeline(\"fill-mask\")\n",
        "pipeline_unmask(\"She fell in love with <mask>.\", top_k=4)"
      ],
      "metadata": {
        "id": "rnTPVtzjdJ4e"
      },
      "execution_count": null,
      "outputs": []
    }
  ],
  "metadata": {
    "colab": {
      "name": "Transformers, what can they do?",
      "provenance": []
    },
    "language_info": {
      "name": "python"
    },
    "kernelspec": {
      "name": "python3",
      "display_name": "Python 3"
    }
  },
  "nbformat": 4,
  "nbformat_minor": 0
}