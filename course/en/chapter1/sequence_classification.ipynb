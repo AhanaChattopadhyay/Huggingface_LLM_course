{
  "cells": [
    {
      "cell_type": "code",
      "execution_count": 1,
      "metadata": {
        "id": "pdeUVZF_2unX"
      },
      "outputs": [
        {
          "name": "stdout",
          "output_type": "stream",
          "text": [
            "Requirement already satisfied: transformers in c:\\users\\ahana\\onedrive\\desktop\\hugging_face_llm\\.venv\\lib\\site-packages (4.52.4)\n",
            "Requirement already satisfied: datasets in c:\\users\\ahana\\onedrive\\desktop\\hugging_face_llm\\.venv\\lib\\site-packages (3.6.0)\n",
            "Requirement already satisfied: filelock in c:\\users\\ahana\\onedrive\\desktop\\hugging_face_llm\\.venv\\lib\\site-packages (from transformers) (3.18.0)\n",
            "Requirement already satisfied: huggingface-hub<1.0,>=0.30.0 in c:\\users\\ahana\\onedrive\\desktop\\hugging_face_llm\\.venv\\lib\\site-packages (from transformers) (0.32.4)\n",
            "Requirement already satisfied: numpy>=1.17 in c:\\users\\ahana\\onedrive\\desktop\\hugging_face_llm\\.venv\\lib\\site-packages (from transformers) (2.3.0)\n",
            "Requirement already satisfied: packaging>=20.0 in c:\\users\\ahana\\onedrive\\desktop\\hugging_face_llm\\.venv\\lib\\site-packages (from transformers) (25.0)\n",
            "Requirement already satisfied: pyyaml>=5.1 in c:\\users\\ahana\\onedrive\\desktop\\hugging_face_llm\\.venv\\lib\\site-packages (from transformers) (6.0.2)\n",
            "Requirement already satisfied: regex!=2019.12.17 in c:\\users\\ahana\\onedrive\\desktop\\hugging_face_llm\\.venv\\lib\\site-packages (from transformers) (2024.11.6)\n",
            "Requirement already satisfied: requests in c:\\users\\ahana\\onedrive\\desktop\\hugging_face_llm\\.venv\\lib\\site-packages (from transformers) (2.32.4)\n",
            "Requirement already satisfied: tokenizers<0.22,>=0.21 in c:\\users\\ahana\\onedrive\\desktop\\hugging_face_llm\\.venv\\lib\\site-packages (from transformers) (0.21.1)\n",
            "Requirement already satisfied: safetensors>=0.4.3 in c:\\users\\ahana\\onedrive\\desktop\\hugging_face_llm\\.venv\\lib\\site-packages (from transformers) (0.5.3)\n",
            "Requirement already satisfied: tqdm>=4.27 in c:\\users\\ahana\\onedrive\\desktop\\hugging_face_llm\\.venv\\lib\\site-packages (from transformers) (4.67.1)\n",
            "Requirement already satisfied: fsspec>=2023.5.0 in c:\\users\\ahana\\onedrive\\desktop\\hugging_face_llm\\.venv\\lib\\site-packages (from huggingface-hub<1.0,>=0.30.0->transformers) (2025.3.0)\n",
            "Requirement already satisfied: typing-extensions>=3.7.4.3 in c:\\users\\ahana\\onedrive\\desktop\\hugging_face_llm\\.venv\\lib\\site-packages (from huggingface-hub<1.0,>=0.30.0->transformers) (4.14.0)\n",
            "Requirement already satisfied: pyarrow>=15.0.0 in c:\\users\\ahana\\onedrive\\desktop\\hugging_face_llm\\.venv\\lib\\site-packages (from datasets) (20.0.0)\n",
            "Requirement already satisfied: dill<0.3.9,>=0.3.0 in c:\\users\\ahana\\onedrive\\desktop\\hugging_face_llm\\.venv\\lib\\site-packages (from datasets) (0.3.8)\n",
            "Requirement already satisfied: pandas in c:\\users\\ahana\\onedrive\\desktop\\hugging_face_llm\\.venv\\lib\\site-packages (from datasets) (2.3.0)\n",
            "Requirement already satisfied: xxhash in c:\\users\\ahana\\onedrive\\desktop\\hugging_face_llm\\.venv\\lib\\site-packages (from datasets) (3.5.0)\n",
            "Requirement already satisfied: multiprocess<0.70.17 in c:\\users\\ahana\\onedrive\\desktop\\hugging_face_llm\\.venv\\lib\\site-packages (from datasets) (0.70.16)\n",
            "Requirement already satisfied: aiohttp!=4.0.0a0,!=4.0.0a1 in c:\\users\\ahana\\onedrive\\desktop\\hugging_face_llm\\.venv\\lib\\site-packages (from fsspec[http]<=2025.3.0,>=2023.1.0->datasets) (3.12.12)\n",
            "Requirement already satisfied: aiohappyeyeballs>=2.5.0 in c:\\users\\ahana\\onedrive\\desktop\\hugging_face_llm\\.venv\\lib\\site-packages (from aiohttp!=4.0.0a0,!=4.0.0a1->fsspec[http]<=2025.3.0,>=2023.1.0->datasets) (2.6.1)\n",
            "Requirement already satisfied: aiosignal>=1.1.2 in c:\\users\\ahana\\onedrive\\desktop\\hugging_face_llm\\.venv\\lib\\site-packages (from aiohttp!=4.0.0a0,!=4.0.0a1->fsspec[http]<=2025.3.0,>=2023.1.0->datasets) (1.3.2)\n",
            "Requirement already satisfied: attrs>=17.3.0 in c:\\users\\ahana\\onedrive\\desktop\\hugging_face_llm\\.venv\\lib\\site-packages (from aiohttp!=4.0.0a0,!=4.0.0a1->fsspec[http]<=2025.3.0,>=2023.1.0->datasets) (25.3.0)\n",
            "Requirement already satisfied: frozenlist>=1.1.1 in c:\\users\\ahana\\onedrive\\desktop\\hugging_face_llm\\.venv\\lib\\site-packages (from aiohttp!=4.0.0a0,!=4.0.0a1->fsspec[http]<=2025.3.0,>=2023.1.0->datasets) (1.7.0)\n",
            "Requirement already satisfied: multidict<7.0,>=4.5 in c:\\users\\ahana\\onedrive\\desktop\\hugging_face_llm\\.venv\\lib\\site-packages (from aiohttp!=4.0.0a0,!=4.0.0a1->fsspec[http]<=2025.3.0,>=2023.1.0->datasets) (6.4.4)\n",
            "Requirement already satisfied: propcache>=0.2.0 in c:\\users\\ahana\\onedrive\\desktop\\hugging_face_llm\\.venv\\lib\\site-packages (from aiohttp!=4.0.0a0,!=4.0.0a1->fsspec[http]<=2025.3.0,>=2023.1.0->datasets) (0.3.2)\n",
            "Requirement already satisfied: yarl<2.0,>=1.17.0 in c:\\users\\ahana\\onedrive\\desktop\\hugging_face_llm\\.venv\\lib\\site-packages (from aiohttp!=4.0.0a0,!=4.0.0a1->fsspec[http]<=2025.3.0,>=2023.1.0->datasets) (1.20.1)\n",
            "Requirement already satisfied: idna>=2.0 in c:\\users\\ahana\\onedrive\\desktop\\hugging_face_llm\\.venv\\lib\\site-packages (from yarl<2.0,>=1.17.0->aiohttp!=4.0.0a0,!=4.0.0a1->fsspec[http]<=2025.3.0,>=2023.1.0->datasets) (3.10)\n",
            "Requirement already satisfied: charset_normalizer<4,>=2 in c:\\users\\ahana\\onedrive\\desktop\\hugging_face_llm\\.venv\\lib\\site-packages (from requests->transformers) (3.4.2)\n",
            "Requirement already satisfied: urllib3<3,>=1.21.1 in c:\\users\\ahana\\onedrive\\desktop\\hugging_face_llm\\.venv\\lib\\site-packages (from requests->transformers) (2.4.0)\n",
            "Requirement already satisfied: certifi>=2017.4.17 in c:\\users\\ahana\\onedrive\\desktop\\hugging_face_llm\\.venv\\lib\\site-packages (from requests->transformers) (2025.4.26)\n",
            "Requirement already satisfied: colorama in c:\\users\\ahana\\onedrive\\desktop\\hugging_face_llm\\.venv\\lib\\site-packages (from tqdm>=4.27->transformers) (0.4.6)\n",
            "Requirement already satisfied: python-dateutil>=2.8.2 in c:\\users\\ahana\\onedrive\\desktop\\hugging_face_llm\\.venv\\lib\\site-packages (from pandas->datasets) (2.9.0.post0)\n",
            "Requirement already satisfied: pytz>=2020.1 in c:\\users\\ahana\\onedrive\\desktop\\hugging_face_llm\\.venv\\lib\\site-packages (from pandas->datasets) (2025.2)\n",
            "Requirement already satisfied: tzdata>=2022.7 in c:\\users\\ahana\\onedrive\\desktop\\hugging_face_llm\\.venv\\lib\\site-packages (from pandas->datasets) (2025.2)\n",
            "Requirement already satisfied: six>=1.5 in c:\\users\\ahana\\onedrive\\desktop\\hugging_face_llm\\.venv\\lib\\site-packages (from python-dateutil>=2.8.2->pandas->datasets) (1.17.0)\n"
          ]
        }
      ],
      "source": [
        "# Transformers installation\n",
        "! pip install transformers datasets\n",
        "# To install from source instead of the last release, comment the command above and uncomment the following one.\n",
        "# ! pip install git+https://github.com/huggingface/transformers.git"
      ]
    },
    {
      "cell_type": "markdown",
      "metadata": {
        "id": "1SfkQ2YF2unZ"
      },
      "source": [
        "# Text classification"
      ]
    },
    {
      "cell_type": "code",
      "execution_count": null,
      "metadata": {
        "cellView": "form",
        "hide_input": true,
        "id": "uQf6P1Bq2unZ",
        "outputId": "706e401e-7104-431b-a3ce-38f7fc7aa758"
      },
      "outputs": [
        {
          "data": {
            "text/html": [
              "<iframe width=\"560\" height=\"315\" src=\"https://www.youtube.com/embed/leNG9fN9FQU?rel=0&amp;controls=0&amp;showinfo=0\" frameborder=\"0\" allowfullscreen></iframe>"
            ],
            "text/plain": [
              "<IPython.core.display.HTML object>"
            ]
          },
          "execution_count": null,
          "metadata": {},
          "output_type": "execute_result"
        }
      ],
      "source": [
        "#@title\n",
        "from IPython.display import HTML\n",
        "\n",
        "HTML('<iframe width=\"560\" height=\"315\" src=\"https://www.youtube.com/embed/leNG9fN9FQU?rel=0&amp;controls=0&amp;showinfo=0\" frameborder=\"0\" allowfullscreen></iframe>')"
      ]
    },
    {
      "cell_type": "markdown",
      "metadata": {
        "id": "YIFYQrbw2una"
      },
      "source": [
        "Text classification is a common NLP task that assigns a label or class to text. Some of the largest companies run text classification in production for a wide range of practical applications. One of the most popular forms of text classification is sentiment analysis, which assigns a label like 🙂 positive, 🙁 negative, or 😐 neutral to a sequence of text.\n",
        "\n",
        "This guide will show you how to:\n",
        "\n",
        "1. Finetune [DistilBERT](https://huggingface.co/distilbert-base-uncased) on the [IMDb](https://huggingface.co/datasets/imdb) dataset to determine whether a movie review is positive or negative.\n",
        "2. Use your finetuned model for inference.\n",
        "\n",
        "<Tip>\n",
        "The task illustrated in this tutorial is supported by the following model architectures:\n",
        "\n",
        "<!--This tip is automatically generated by `make fix-copies`, do not fill manually!-->\n",
        "\n",
        "[ALBERT](https://huggingface.co/docs/transformers/main/en/tasks/../model_doc/albert), [BART](https://huggingface.co/docs/transformers/main/en/tasks/../model_doc/bart), [BERT](https://huggingface.co/docs/transformers/main/en/tasks/../model_doc/bert), [BigBird](https://huggingface.co/docs/transformers/main/en/tasks/../model_doc/big_bird), [BigBird-Pegasus](https://huggingface.co/docs/transformers/main/en/tasks/../model_doc/bigbird_pegasus), [BioGpt](https://huggingface.co/docs/transformers/main/en/tasks/../model_doc/biogpt), [BLOOM](https://huggingface.co/docs/transformers/main/en/tasks/../model_doc/bloom), [CamemBERT](https://huggingface.co/docs/transformers/main/en/tasks/../model_doc/camembert), [CANINE](https://huggingface.co/docs/transformers/main/en/tasks/../model_doc/canine), [ConvBERT](https://huggingface.co/docs/transformers/main/en/tasks/../model_doc/convbert), [CTRL](https://huggingface.co/docs/transformers/main/en/tasks/../model_doc/ctrl), [Data2VecText](https://huggingface.co/docs/transformers/main/en/tasks/../model_doc/data2vec-text), [DeBERTa](https://huggingface.co/docs/transformers/main/en/tasks/../model_doc/deberta), [DeBERTa-v2](https://huggingface.co/docs/transformers/main/en/tasks/../model_doc/deberta-v2), [DistilBERT](https://huggingface.co/docs/transformers/main/en/tasks/../model_doc/distilbert), [ELECTRA](https://huggingface.co/docs/transformers/main/en/tasks/../model_doc/electra), [ERNIE](https://huggingface.co/docs/transformers/main/en/tasks/../model_doc/ernie), [ErnieM](https://huggingface.co/docs/transformers/main/en/tasks/../model_doc/ernie_m), [ESM](https://huggingface.co/docs/transformers/main/en/tasks/../model_doc/esm), [FlauBERT](https://huggingface.co/docs/transformers/main/en/tasks/../model_doc/flaubert), [FNet](https://huggingface.co/docs/transformers/main/en/tasks/../model_doc/fnet), [Funnel Transformer](https://huggingface.co/docs/transformers/main/en/tasks/../model_doc/funnel), [GPT-Sw3](https://huggingface.co/docs/transformers/main/en/tasks/../model_doc/gpt-sw3), [OpenAI GPT-2](https://huggingface.co/docs/transformers/main/en/tasks/../model_doc/gpt2), [GPTBigCode](https://huggingface.co/docs/transformers/main/en/tasks/../model_doc/gpt_bigcode), [GPT Neo](https://huggingface.co/docs/transformers/main/en/tasks/../model_doc/gpt_neo), [GPT NeoX](https://huggingface.co/docs/transformers/main/en/tasks/../model_doc/gpt_neox), [GPT-J](https://huggingface.co/docs/transformers/main/en/tasks/../model_doc/gptj), [I-BERT](https://huggingface.co/docs/transformers/main/en/tasks/../model_doc/ibert), [LayoutLM](https://huggingface.co/docs/transformers/main/en/tasks/../model_doc/layoutlm), [LayoutLMv2](https://huggingface.co/docs/transformers/main/en/tasks/../model_doc/layoutlmv2), [LayoutLMv3](https://huggingface.co/docs/transformers/main/en/tasks/../model_doc/layoutlmv3), [LED](https://huggingface.co/docs/transformers/main/en/tasks/../model_doc/led), [LiLT](https://huggingface.co/docs/transformers/main/en/tasks/../model_doc/lilt), [LLaMA](https://huggingface.co/docs/transformers/main/en/tasks/../model_doc/llama), [Longformer](https://huggingface.co/docs/transformers/main/en/tasks/../model_doc/longformer), [LUKE](https://huggingface.co/docs/transformers/main/en/tasks/../model_doc/luke), [MarkupLM](https://huggingface.co/docs/transformers/main/en/tasks/../model_doc/markuplm), [mBART](https://huggingface.co/docs/transformers/main/en/tasks/../model_doc/mbart), [MEGA](https://huggingface.co/docs/transformers/main/en/tasks/../model_doc/mega), [Megatron-BERT](https://huggingface.co/docs/transformers/main/en/tasks/../model_doc/megatron-bert), [MobileBERT](https://huggingface.co/docs/transformers/main/en/tasks/../model_doc/mobilebert), [MPNet](https://huggingface.co/docs/transformers/main/en/tasks/../model_doc/mpnet), [MVP](https://huggingface.co/docs/transformers/main/en/tasks/../model_doc/mvp), [Nezha](https://huggingface.co/docs/transformers/main/en/tasks/../model_doc/nezha), [Nyströmformer](https://huggingface.co/docs/transformers/main/en/tasks/../model_doc/nystromformer), [OpenLlama](https://huggingface.co/docs/transformers/main/en/tasks/../model_doc/open-llama), [OpenAI GPT](https://huggingface.co/docs/transformers/main/en/tasks/../model_doc/openai-gpt), [OPT](https://huggingface.co/docs/transformers/main/en/tasks/../model_doc/opt), [Perceiver](https://huggingface.co/docs/transformers/main/en/tasks/../model_doc/perceiver), [PLBart](https://huggingface.co/docs/transformers/main/en/tasks/../model_doc/plbart), [QDQBert](https://huggingface.co/docs/transformers/main/en/tasks/../model_doc/qdqbert), [Reformer](https://huggingface.co/docs/transformers/main/en/tasks/../model_doc/reformer), [RemBERT](https://huggingface.co/docs/transformers/main/en/tasks/../model_doc/rembert), [RoBERTa](https://huggingface.co/docs/transformers/main/en/tasks/../model_doc/roberta), [RoBERTa-PreLayerNorm](https://huggingface.co/docs/transformers/main/en/tasks/../model_doc/roberta-prelayernorm), [RoCBert](https://huggingface.co/docs/transformers/main/en/tasks/../model_doc/roc_bert), [RoFormer](https://huggingface.co/docs/transformers/main/en/tasks/../model_doc/roformer), [SqueezeBERT](https://huggingface.co/docs/transformers/main/en/tasks/../model_doc/squeezebert), [TAPAS](https://huggingface.co/docs/transformers/main/en/tasks/../model_doc/tapas), [Transformer-XL](https://huggingface.co/docs/transformers/main/en/tasks/../model_doc/transfo-xl), [XLM](https://huggingface.co/docs/transformers/main/en/tasks/../model_doc/xlm), [XLM-RoBERTa](https://huggingface.co/docs/transformers/main/en/tasks/../model_doc/xlm-roberta), [XLM-RoBERTa-XL](https://huggingface.co/docs/transformers/main/en/tasks/../model_doc/xlm-roberta-xl), [XLNet](https://huggingface.co/docs/transformers/main/en/tasks/../model_doc/xlnet), [X-MOD](https://huggingface.co/docs/transformers/main/en/tasks/../model_doc/xmod), [YOSO](https://huggingface.co/docs/transformers/main/en/tasks/../model_doc/yoso)\n",
        "\n",
        "\n",
        "<!--End of the generated tip-->\n",
        "\n",
        "</Tip>\n",
        "\n",
        "Before you begin, make sure you have all the necessary libraries installed:\n",
        "\n",
        "```bash\n",
        "pip install transformers datasets evaluate\n",
        "```\n",
        "\n",
        "We encourage you to login to your Hugging Face account so you can upload and share your model with the community. When prompted, enter your token to login:"
      ]
    },
    {
      "cell_type": "code",
      "execution_count": null,
      "metadata": {},
      "outputs": [
        {
          "name": "stdout",
          "output_type": "stream",
          "text": [
            "Collecting ipywidgets\n",
            "  Downloading ipywidgets-8.1.7-py3-none-any.whl.metadata (2.4 kB)\n",
            "Requirement already satisfied: comm>=0.1.3 in c:\\users\\ahana\\onedrive\\desktop\\hugging_face_llm\\.venv\\lib\\site-packages (from ipywidgets) (0.2.2)\n",
            "Requirement already satisfied: ipython>=6.1.0 in c:\\users\\ahana\\onedrive\\desktop\\hugging_face_llm\\.venv\\lib\\site-packages (from ipywidgets) (9.3.0)\n",
            "Requirement already satisfied: traitlets>=4.3.1 in c:\\users\\ahana\\onedrive\\desktop\\hugging_face_llm\\.venv\\lib\\site-packages (from ipywidgets) (5.14.3)\n",
            "Collecting widgetsnbextension~=4.0.14 (from ipywidgets)\n",
            "  Downloading widgetsnbextension-4.0.14-py3-none-any.whl.metadata (1.6 kB)\n",
            "Collecting jupyterlab_widgets~=3.0.15 (from ipywidgets)\n",
            "  Downloading jupyterlab_widgets-3.0.15-py3-none-any.whl.metadata (20 kB)\n",
            "Requirement already satisfied: colorama in c:\\users\\ahana\\onedrive\\desktop\\hugging_face_llm\\.venv\\lib\\site-packages (from ipython>=6.1.0->ipywidgets) (0.4.6)\n",
            "Requirement already satisfied: decorator in c:\\users\\ahana\\onedrive\\desktop\\hugging_face_llm\\.venv\\lib\\site-packages (from ipython>=6.1.0->ipywidgets) (5.2.1)\n",
            "Requirement already satisfied: ipython-pygments-lexers in c:\\users\\ahana\\onedrive\\desktop\\hugging_face_llm\\.venv\\lib\\site-packages (from ipython>=6.1.0->ipywidgets) (1.1.1)\n",
            "Requirement already satisfied: jedi>=0.16 in c:\\users\\ahana\\onedrive\\desktop\\hugging_face_llm\\.venv\\lib\\site-packages (from ipython>=6.1.0->ipywidgets) (0.19.2)\n",
            "Requirement already satisfied: matplotlib-inline in c:\\users\\ahana\\onedrive\\desktop\\hugging_face_llm\\.venv\\lib\\site-packages (from ipython>=6.1.0->ipywidgets) (0.1.7)\n",
            "Requirement already satisfied: prompt_toolkit<3.1.0,>=3.0.41 in c:\\users\\ahana\\onedrive\\desktop\\hugging_face_llm\\.venv\\lib\\site-packages (from ipython>=6.1.0->ipywidgets) (3.0.51)\n",
            "Requirement already satisfied: pygments>=2.4.0 in c:\\users\\ahana\\onedrive\\desktop\\hugging_face_llm\\.venv\\lib\\site-packages (from ipython>=6.1.0->ipywidgets) (2.19.1)\n",
            "Requirement already satisfied: stack_data in c:\\users\\ahana\\onedrive\\desktop\\hugging_face_llm\\.venv\\lib\\site-packages (from ipython>=6.1.0->ipywidgets) (0.6.3)\n",
            "Requirement already satisfied: typing_extensions>=4.6 in c:\\users\\ahana\\onedrive\\desktop\\hugging_face_llm\\.venv\\lib\\site-packages (from ipython>=6.1.0->ipywidgets) (4.14.0)\n",
            "Requirement already satisfied: wcwidth in c:\\users\\ahana\\onedrive\\desktop\\hugging_face_llm\\.venv\\lib\\site-packages (from prompt_toolkit<3.1.0,>=3.0.41->ipython>=6.1.0->ipywidgets) (0.2.13)\n",
            "Requirement already satisfied: parso<0.9.0,>=0.8.4 in c:\\users\\ahana\\onedrive\\desktop\\hugging_face_llm\\.venv\\lib\\site-packages (from jedi>=0.16->ipython>=6.1.0->ipywidgets) (0.8.4)\n",
            "Requirement already satisfied: executing>=1.2.0 in c:\\users\\ahana\\onedrive\\desktop\\hugging_face_llm\\.venv\\lib\\site-packages (from stack_data->ipython>=6.1.0->ipywidgets) (2.2.0)\n",
            "Requirement already satisfied: asttokens>=2.1.0 in c:\\users\\ahana\\onedrive\\desktop\\hugging_face_llm\\.venv\\lib\\site-packages (from stack_data->ipython>=6.1.0->ipywidgets) (3.0.0)\n",
            "Requirement already satisfied: pure-eval in c:\\users\\ahana\\onedrive\\desktop\\hugging_face_llm\\.venv\\lib\\site-packages (from stack_data->ipython>=6.1.0->ipywidgets) (0.2.3)\n",
            "Downloading ipywidgets-8.1.7-py3-none-any.whl (139 kB)\n",
            "Downloading jupyterlab_widgets-3.0.15-py3-none-any.whl (216 kB)\n",
            "Downloading widgetsnbextension-4.0.14-py3-none-any.whl (2.2 MB)\n",
            "   ---------------------------------------- 0.0/2.2 MB ? eta -:--:--\n",
            "   ---------------------------------------- 0.0/2.2 MB ? eta -:--:--\n",
            "   ---- ----------------------------------- 0.3/2.2 MB ? eta -:--:--\n",
            "   --------- ------------------------------ 0.5/2.2 MB 1.2 MB/s eta 0:00:02\n",
            "   --------- ------------------------------ 0.5/2.2 MB 1.2 MB/s eta 0:00:02\n",
            "   -------------- ------------------------- 0.8/2.2 MB 744.7 kB/s eta 0:00:02\n",
            "   -------------- ------------------------- 0.8/2.2 MB 744.7 kB/s eta 0:00:02\n",
            "   ------------------- -------------------- 1.0/2.2 MB 662.0 kB/s eta 0:00:02\n",
            "   ------------------- -------------------- 1.0/2.2 MB 662.0 kB/s eta 0:00:02\n",
            "   ----------------------- ---------------- 1.3/2.2 MB 691.7 kB/s eta 0:00:02\n",
            "   ---------------------------- ----------- 1.6/2.2 MB 710.8 kB/s eta 0:00:01\n",
            "   ---------------------------- ----------- 1.6/2.2 MB 710.8 kB/s eta 0:00:01\n",
            "   --------------------------------- ------ 1.8/2.2 MB 713.6 kB/s eta 0:00:01\n",
            "   --------------------------------- ------ 1.8/2.2 MB 713.6 kB/s eta 0:00:01\n",
            "   -------------------------------------- - 2.1/2.2 MB 694.8 kB/s eta 0:00:01\n",
            "   ---------------------------------------- 2.2/2.2 MB 680.2 kB/s eta 0:00:00\n",
            "Installing collected packages: widgetsnbextension, jupyterlab_widgets, ipywidgets\n",
            "\n",
            "   -------------------------- ------------- 2/3 [ipywidgets]\n",
            "   ---------------------------------------- 3/3 [ipywidgets]\n",
            "\n",
            "Successfully installed ipywidgets-8.1.7 jupyterlab_widgets-3.0.15 widgetsnbextension-4.0.14\n"
          ]
        }
      ],
      "source": [
        "# !pip install ipywidgets\n"
      ]
    },
    {
      "cell_type": "code",
      "execution_count": 2,
      "metadata": {
        "id": "VyLlgfcd2una"
      },
      "outputs": [
        {
          "data": {
            "application/vnd.jupyter.widget-view+json": {
              "model_id": "8729519d52164c4bbcf5fb58310ff633",
              "version_major": 2,
              "version_minor": 0
            },
            "text/plain": [
              "VBox(children=(HTML(value='<center> <img\\nsrc=https://huggingface.co/front/assets/huggingface_logo-noborder.sv…"
            ]
          },
          "metadata": {},
          "output_type": "display_data"
        }
      ],
      "source": [
        "from huggingface_hub import notebook_login\n",
        "\n",
        "notebook_login()"
      ]
    },
    {
      "cell_type": "markdown",
      "metadata": {
        "id": "AdESZDW32unb"
      },
      "source": [
        "## Load IMDb dataset"
      ]
    },
    {
      "cell_type": "markdown",
      "metadata": {
        "id": "_akB-d1J2unb"
      },
      "source": [
        "Start by loading the IMDb dataset from the 🤗 Datasets library:"
      ]
    },
    {
      "cell_type": "code",
      "execution_count": 3,
      "metadata": {
        "id": "wUUABxzY2unb"
      },
      "outputs": [],
      "source": [
        "from datasets import load_dataset\n",
        "\n",
        "imdb = load_dataset(\"imdb\")"
      ]
    },
    {
      "cell_type": "markdown",
      "metadata": {
        "id": "m2PrIzJq2unb"
      },
      "source": [
        "Then take a look at an example:"
      ]
    },
    {
      "cell_type": "code",
      "execution_count": 4,
      "metadata": {
        "id": "gGcV3VV-2unc",
        "outputId": "3a0f71b9-79cc-40f8-e2cd-587ce9e549a3"
      },
      "outputs": [
        {
          "data": {
            "text/plain": [
              "{'text': 'I love sci-fi and am willing to put up with a lot. Sci-fi movies/TV are usually underfunded, under-appreciated and misunderstood. I tried to like this, I really did, but it is to good TV sci-fi as Babylon 5 is to Star Trek (the original). Silly prosthetics, cheap cardboard sets, stilted dialogues, CG that doesn\\'t match the background, and painfully one-dimensional characters cannot be overcome with a \\'sci-fi\\' setting. (I\\'m sure there are those of you out there who think Babylon 5 is good sci-fi TV. It\\'s not. It\\'s clichéd and uninspiring.) While US viewers might like emotion and character development, sci-fi is a genre that does not take itself seriously (cf. Star Trek). It may treat important issues, yet not as a serious philosophy. It\\'s really difficult to care about the characters here as they are not simply foolish, just missing a spark of life. Their actions and reactions are wooden and predictable, often painful to watch. The makers of Earth KNOW it\\'s rubbish as they have to always say \"Gene Roddenberry\\'s Earth...\" otherwise people would not continue watching. Roddenberry\\'s ashes must be turning in their orbit as this dull, cheap, poorly edited (watching it without advert breaks really brings this home) trudging Trabant of a show lumbers into space. Spoiler. So, kill off a main character. And then bring him back as another actor. Jeeez! Dallas all over again.',\n",
              " 'label': 0}"
            ]
          },
          "execution_count": 4,
          "metadata": {},
          "output_type": "execute_result"
        }
      ],
      "source": [
        "imdb[\"test\"][0]"
      ]
    },
    {
      "cell_type": "markdown",
      "metadata": {
        "id": "IV1z3C0m2unc"
      },
      "source": [
        "There are two fields in this dataset:\n",
        "\n",
        "- `text`: the movie review text.\n",
        "- `label`: a value that is either `0` for a negative review or `1` for a positive review."
      ]
    },
    {
      "cell_type": "markdown",
      "metadata": {
        "id": "SwvpihlY2unc"
      },
      "source": [
        "## Preprocess"
      ]
    },
    {
      "cell_type": "markdown",
      "metadata": {
        "id": "VGFGIopL2unc"
      },
      "source": [
        "The next step is to load a DistilBERT tokenizer to preprocess the `text` field:"
      ]
    },
    {
      "cell_type": "code",
      "execution_count": 5,
      "metadata": {
        "id": "9SYk-wSD2unc"
      },
      "outputs": [],
      "source": [
        "from transformers import AutoTokenizer\n",
        "\n",
        "tokenizer = AutoTokenizer.from_pretrained(\"distilbert-base-uncased\")"
      ]
    },
    {
      "cell_type": "markdown",
      "metadata": {
        "id": "EGe-w3kC2unc"
      },
      "source": [
        "Create a preprocessing function to tokenize `text` and truncate sequences to be no longer than DistilBERT's maximum input length:"
      ]
    },
    {
      "cell_type": "code",
      "execution_count": 6,
      "metadata": {
        "id": "SaFnxCvd2unc"
      },
      "outputs": [],
      "source": [
        "def preprocess_function(examples):\n",
        "    return tokenizer(examples[\"text\"], truncation=True)"
      ]
    },
    {
      "cell_type": "markdown",
      "metadata": {
        "id": "598INwra2unc"
      },
      "source": [
        "To apply the preprocessing function over the entire dataset, use 🤗 Datasets [map](https://huggingface.co/docs/datasets/main/en/package_reference/main_classes#datasets.Dataset.map) function. You can speed up `map` by setting `batched=True` to process multiple elements of the dataset at once:"
      ]
    },
    {
      "cell_type": "code",
      "execution_count": 7,
      "metadata": {
        "id": "CvaRYETG2unc"
      },
      "outputs": [],
      "source": [
        "tokenized_imdb = imdb.map(preprocess_function, batched=True)"
      ]
    },
    {
      "cell_type": "markdown",
      "metadata": {
        "id": "61orLRVC2unc"
      },
      "source": [
        "Now create a batch of examples using [DataCollatorWithPadding](https://huggingface.co/docs/transformers/main/en/main_classes/data_collator#transformers.DataCollatorWithPadding). It's more efficient to *dynamically pad* the sentences to the longest length in a batch during collation, instead of padding the whole dataset to the maximum length."
      ]
    },
    {
      "cell_type": "code",
      "execution_count": 8,
      "metadata": {
        "id": "14wD_YHY2unc"
      },
      "outputs": [],
      "source": [
        "from transformers import DataCollatorWithPadding\n",
        "\n",
        "data_collator = DataCollatorWithPadding(tokenizer=tokenizer)"
      ]
    },
    {
      "cell_type": "markdown",
      "metadata": {
        "id": "1o-WWsd92unc"
      },
      "source": [
        "## Evaluate"
      ]
    },
    {
      "cell_type": "markdown",
      "metadata": {
        "id": "ddb6YsuI2und"
      },
      "source": [
        "Including a metric during training is often helpful for evaluating your model's performance. You can quickly load a evaluation method with the 🤗 [Evaluate](https://huggingface.co/docs/evaluate/index) library. For this task, load the [accuracy](https://huggingface.co/spaces/evaluate-metric/accuracy) metric (see the 🤗 Evaluate [quick tour](https://huggingface.co/docs/evaluate/a_quick_tour) to learn more about how to load and compute a metric):"
      ]
    },
    {
      "cell_type": "code",
      "execution_count": null,
      "metadata": {},
      "outputs": [
        {
          "name": "stdout",
          "output_type": "stream",
          "text": [
            "Collecting evaluate\n",
            "  Downloading evaluate-0.4.3-py3-none-any.whl.metadata (9.2 kB)\n",
            "Requirement already satisfied: datasets>=2.0.0 in c:\\users\\ahana\\onedrive\\desktop\\hugging_face_llm\\.venv\\lib\\site-packages (from evaluate) (3.6.0)\n",
            "Requirement already satisfied: numpy>=1.17 in c:\\users\\ahana\\onedrive\\desktop\\hugging_face_llm\\.venv\\lib\\site-packages (from evaluate) (2.3.0)\n",
            "Requirement already satisfied: dill in c:\\users\\ahana\\onedrive\\desktop\\hugging_face_llm\\.venv\\lib\\site-packages (from evaluate) (0.3.8)\n",
            "Requirement already satisfied: pandas in c:\\users\\ahana\\onedrive\\desktop\\hugging_face_llm\\.venv\\lib\\site-packages (from evaluate) (2.3.0)\n",
            "Requirement already satisfied: requests>=2.19.0 in c:\\users\\ahana\\onedrive\\desktop\\hugging_face_llm\\.venv\\lib\\site-packages (from evaluate) (2.32.4)\n",
            "Requirement already satisfied: tqdm>=4.62.1 in c:\\users\\ahana\\onedrive\\desktop\\hugging_face_llm\\.venv\\lib\\site-packages (from evaluate) (4.67.1)\n",
            "Requirement already satisfied: xxhash in c:\\users\\ahana\\onedrive\\desktop\\hugging_face_llm\\.venv\\lib\\site-packages (from evaluate) (3.5.0)\n",
            "Requirement already satisfied: multiprocess in c:\\users\\ahana\\onedrive\\desktop\\hugging_face_llm\\.venv\\lib\\site-packages (from evaluate) (0.70.16)\n",
            "Requirement already satisfied: fsspec>=2021.05.0 in c:\\users\\ahana\\onedrive\\desktop\\hugging_face_llm\\.venv\\lib\\site-packages (from fsspec[http]>=2021.05.0->evaluate) (2025.3.0)\n",
            "Requirement already satisfied: huggingface-hub>=0.7.0 in c:\\users\\ahana\\onedrive\\desktop\\hugging_face_llm\\.venv\\lib\\site-packages (from evaluate) (0.32.4)\n",
            "Requirement already satisfied: packaging in c:\\users\\ahana\\onedrive\\desktop\\hugging_face_llm\\.venv\\lib\\site-packages (from evaluate) (25.0)\n",
            "Requirement already satisfied: filelock in c:\\users\\ahana\\onedrive\\desktop\\hugging_face_llm\\.venv\\lib\\site-packages (from datasets>=2.0.0->evaluate) (3.18.0)\n",
            "Requirement already satisfied: pyarrow>=15.0.0 in c:\\users\\ahana\\onedrive\\desktop\\hugging_face_llm\\.venv\\lib\\site-packages (from datasets>=2.0.0->evaluate) (20.0.0)\n",
            "Requirement already satisfied: pyyaml>=5.1 in c:\\users\\ahana\\onedrive\\desktop\\hugging_face_llm\\.venv\\lib\\site-packages (from datasets>=2.0.0->evaluate) (6.0.2)\n",
            "Requirement already satisfied: aiohttp!=4.0.0a0,!=4.0.0a1 in c:\\users\\ahana\\onedrive\\desktop\\hugging_face_llm\\.venv\\lib\\site-packages (from fsspec[http]>=2021.05.0->evaluate) (3.12.12)\n",
            "Requirement already satisfied: aiohappyeyeballs>=2.5.0 in c:\\users\\ahana\\onedrive\\desktop\\hugging_face_llm\\.venv\\lib\\site-packages (from aiohttp!=4.0.0a0,!=4.0.0a1->fsspec[http]>=2021.05.0->evaluate) (2.6.1)\n",
            "Requirement already satisfied: aiosignal>=1.1.2 in c:\\users\\ahana\\onedrive\\desktop\\hugging_face_llm\\.venv\\lib\\site-packages (from aiohttp!=4.0.0a0,!=4.0.0a1->fsspec[http]>=2021.05.0->evaluate) (1.3.2)\n",
            "Requirement already satisfied: attrs>=17.3.0 in c:\\users\\ahana\\onedrive\\desktop\\hugging_face_llm\\.venv\\lib\\site-packages (from aiohttp!=4.0.0a0,!=4.0.0a1->fsspec[http]>=2021.05.0->evaluate) (25.3.0)\n",
            "Requirement already satisfied: frozenlist>=1.1.1 in c:\\users\\ahana\\onedrive\\desktop\\hugging_face_llm\\.venv\\lib\\site-packages (from aiohttp!=4.0.0a0,!=4.0.0a1->fsspec[http]>=2021.05.0->evaluate) (1.7.0)\n",
            "Requirement already satisfied: multidict<7.0,>=4.5 in c:\\users\\ahana\\onedrive\\desktop\\hugging_face_llm\\.venv\\lib\\site-packages (from aiohttp!=4.0.0a0,!=4.0.0a1->fsspec[http]>=2021.05.0->evaluate) (6.4.4)\n",
            "Requirement already satisfied: propcache>=0.2.0 in c:\\users\\ahana\\onedrive\\desktop\\hugging_face_llm\\.venv\\lib\\site-packages (from aiohttp!=4.0.0a0,!=4.0.0a1->fsspec[http]>=2021.05.0->evaluate) (0.3.2)\n",
            "Requirement already satisfied: yarl<2.0,>=1.17.0 in c:\\users\\ahana\\onedrive\\desktop\\hugging_face_llm\\.venv\\lib\\site-packages (from aiohttp!=4.0.0a0,!=4.0.0a1->fsspec[http]>=2021.05.0->evaluate) (1.20.1)\n",
            "Requirement already satisfied: idna>=2.0 in c:\\users\\ahana\\onedrive\\desktop\\hugging_face_llm\\.venv\\lib\\site-packages (from yarl<2.0,>=1.17.0->aiohttp!=4.0.0a0,!=4.0.0a1->fsspec[http]>=2021.05.0->evaluate) (3.10)\n",
            "Requirement already satisfied: typing-extensions>=3.7.4.3 in c:\\users\\ahana\\onedrive\\desktop\\hugging_face_llm\\.venv\\lib\\site-packages (from huggingface-hub>=0.7.0->evaluate) (4.14.0)\n",
            "Requirement already satisfied: charset_normalizer<4,>=2 in c:\\users\\ahana\\onedrive\\desktop\\hugging_face_llm\\.venv\\lib\\site-packages (from requests>=2.19.0->evaluate) (3.4.2)\n",
            "Requirement already satisfied: urllib3<3,>=1.21.1 in c:\\users\\ahana\\onedrive\\desktop\\hugging_face_llm\\.venv\\lib\\site-packages (from requests>=2.19.0->evaluate) (2.4.0)\n",
            "Requirement already satisfied: certifi>=2017.4.17 in c:\\users\\ahana\\onedrive\\desktop\\hugging_face_llm\\.venv\\lib\\site-packages (from requests>=2.19.0->evaluate) (2025.4.26)\n",
            "Requirement already satisfied: colorama in c:\\users\\ahana\\onedrive\\desktop\\hugging_face_llm\\.venv\\lib\\site-packages (from tqdm>=4.62.1->evaluate) (0.4.6)\n",
            "Requirement already satisfied: python-dateutil>=2.8.2 in c:\\users\\ahana\\onedrive\\desktop\\hugging_face_llm\\.venv\\lib\\site-packages (from pandas->evaluate) (2.9.0.post0)\n",
            "Requirement already satisfied: pytz>=2020.1 in c:\\users\\ahana\\onedrive\\desktop\\hugging_face_llm\\.venv\\lib\\site-packages (from pandas->evaluate) (2025.2)\n",
            "Requirement already satisfied: tzdata>=2022.7 in c:\\users\\ahana\\onedrive\\desktop\\hugging_face_llm\\.venv\\lib\\site-packages (from pandas->evaluate) (2025.2)\n",
            "Requirement already satisfied: six>=1.5 in c:\\users\\ahana\\onedrive\\desktop\\hugging_face_llm\\.venv\\lib\\site-packages (from python-dateutil>=2.8.2->pandas->evaluate) (1.17.0)\n",
            "Downloading evaluate-0.4.3-py3-none-any.whl (84 kB)\n",
            "Installing collected packages: evaluate\n",
            "Successfully installed evaluate-0.4.3\n"
          ]
        }
      ],
      "source": [
        "# !pip install evaluate\n"
      ]
    },
    {
      "cell_type": "code",
      "execution_count": null,
      "metadata": {},
      "outputs": [
        {
          "name": "stdout",
          "output_type": "stream",
          "text": [
            "Collecting scikit-learn\n",
            "  Downloading scikit_learn-1.7.0-cp311-cp311-win_amd64.whl.metadata (14 kB)\n",
            "Requirement already satisfied: numpy>=1.22.0 in c:\\users\\ahana\\onedrive\\desktop\\hugging_face_llm\\.venv\\lib\\site-packages (from scikit-learn) (2.3.0)\n",
            "Collecting scipy>=1.8.0 (from scikit-learn)\n",
            "  Downloading scipy-1.15.3-cp311-cp311-win_amd64.whl.metadata (60 kB)\n",
            "Collecting joblib>=1.2.0 (from scikit-learn)\n",
            "  Downloading joblib-1.5.1-py3-none-any.whl.metadata (5.6 kB)\n",
            "Collecting threadpoolctl>=3.1.0 (from scikit-learn)\n",
            "  Downloading threadpoolctl-3.6.0-py3-none-any.whl.metadata (13 kB)\n",
            "Downloading scikit_learn-1.7.0-cp311-cp311-win_amd64.whl (10.7 MB)\n",
            "   ---------------------------------------- 0.0/10.7 MB ? eta -:--:--\n",
            "   ---------------------------------------- 0.0/10.7 MB ? eta -:--:--\n",
            "    --------------------------------------- 0.3/10.7 MB ? eta -:--:--\n",
            "    --------------------------------------- 0.3/10.7 MB ? eta -:--:--\n",
            "   -- ------------------------------------- 0.8/10.7 MB 1.3 MB/s eta 0:00:08\n",
            "   --- ------------------------------------ 1.0/10.7 MB 1.3 MB/s eta 0:00:08\n",
            "   --- ------------------------------------ 1.0/10.7 MB 1.3 MB/s eta 0:00:08\n",
            "   ---- ----------------------------------- 1.3/10.7 MB 1.1 MB/s eta 0:00:09\n",
            "   ----- ---------------------------------- 1.6/10.7 MB 1.2 MB/s eta 0:00:08\n",
            "   ------ --------------------------------- 1.8/10.7 MB 1.1 MB/s eta 0:00:08\n",
            "   ------- -------------------------------- 2.1/10.7 MB 1.2 MB/s eta 0:00:08\n",
            "   ------- -------------------------------- 2.1/10.7 MB 1.2 MB/s eta 0:00:08\n",
            "   ------- -------------------------------- 2.1/10.7 MB 1.2 MB/s eta 0:00:08\n",
            "   ------- -------------------------------- 2.1/10.7 MB 1.2 MB/s eta 0:00:08\n",
            "   -------- ------------------------------- 2.4/10.7 MB 871.6 kB/s eta 0:00:10\n",
            "   -------- ------------------------------- 2.4/10.7 MB 871.6 kB/s eta 0:00:10\n",
            "   -------- ------------------------------- 2.4/10.7 MB 871.6 kB/s eta 0:00:10\n",
            "   -------- ------------------------------- 2.4/10.7 MB 871.6 kB/s eta 0:00:10\n",
            "   -------- ------------------------------- 2.4/10.7 MB 871.6 kB/s eta 0:00:10\n",
            "   --------- ------------------------------ 2.6/10.7 MB 677.0 kB/s eta 0:00:12\n",
            "   --------- ------------------------------ 2.6/10.7 MB 677.0 kB/s eta 0:00:12\n",
            "   --------- ------------------------------ 2.6/10.7 MB 677.0 kB/s eta 0:00:12\n",
            "   ---------- ----------------------------- 2.9/10.7 MB 647.7 kB/s eta 0:00:13\n",
            "   ---------- ----------------------------- 2.9/10.7 MB 647.7 kB/s eta 0:00:13\n",
            "   ---------- ----------------------------- 2.9/10.7 MB 647.7 kB/s eta 0:00:13\n",
            "   ----------- ---------------------------- 3.1/10.7 MB 605.0 kB/s eta 0:00:13\n",
            "   ----------- ---------------------------- 3.1/10.7 MB 605.0 kB/s eta 0:00:13\n",
            "   ------------ --------------------------- 3.4/10.7 MB 621.3 kB/s eta 0:00:12\n",
            "   ------------ --------------------------- 3.4/10.7 MB 621.3 kB/s eta 0:00:12\n",
            "   ------------- -------------------------- 3.7/10.7 MB 617.8 kB/s eta 0:00:12\n",
            "   ------------- -------------------------- 3.7/10.7 MB 617.8 kB/s eta 0:00:12\n",
            "   -------------- ------------------------- 3.9/10.7 MB 623.0 kB/s eta 0:00:11\n",
            "   -------------- ------------------------- 3.9/10.7 MB 623.0 kB/s eta 0:00:11\n",
            "   --------------- ------------------------ 4.2/10.7 MB 618.3 kB/s eta 0:00:11\n",
            "   --------------- ------------------------ 4.2/10.7 MB 618.3 kB/s eta 0:00:11\n",
            "   --------------- ------------------------ 4.2/10.7 MB 618.3 kB/s eta 0:00:11\n",
            "   ---------------- ----------------------- 4.5/10.7 MB 605.9 kB/s eta 0:00:11\n",
            "   ---------------- ----------------------- 4.5/10.7 MB 605.9 kB/s eta 0:00:11\n",
            "   ---------------- ----------------------- 4.5/10.7 MB 605.9 kB/s eta 0:00:11\n",
            "   ----------------- ---------------------- 4.7/10.7 MB 590.5 kB/s eta 0:00:11\n",
            "   ----------------- ---------------------- 4.7/10.7 MB 590.5 kB/s eta 0:00:11\n",
            "   ----------------- ---------------------- 4.7/10.7 MB 590.5 kB/s eta 0:00:11\n",
            "   ------------------ --------------------- 5.0/10.7 MB 580.7 kB/s eta 0:00:10\n",
            "   ------------------ --------------------- 5.0/10.7 MB 580.7 kB/s eta 0:00:10\n",
            "   ------------------ --------------------- 5.0/10.7 MB 580.7 kB/s eta 0:00:10\n",
            "   ------------------ --------------------- 5.0/10.7 MB 580.7 kB/s eta 0:00:10\n",
            "   ------------------- -------------------- 5.2/10.7 MB 553.4 kB/s eta 0:00:10\n",
            "   ------------------- -------------------- 5.2/10.7 MB 553.4 kB/s eta 0:00:10\n",
            "   ------------------- -------------------- 5.2/10.7 MB 553.4 kB/s eta 0:00:10\n",
            "   -------------------- ------------------- 5.5/10.7 MB 545.6 kB/s eta 0:00:10\n",
            "   -------------------- ------------------- 5.5/10.7 MB 545.6 kB/s eta 0:00:10\n",
            "   -------------------- ------------------- 5.5/10.7 MB 545.6 kB/s eta 0:00:10\n",
            "   --------------------- ------------------ 5.8/10.7 MB 537.9 kB/s eta 0:00:10\n",
            "   --------------------- ------------------ 5.8/10.7 MB 537.9 kB/s eta 0:00:10\n",
            "   --------------------- ------------------ 5.8/10.7 MB 537.9 kB/s eta 0:00:10\n",
            "   ---------------------- ----------------- 6.0/10.7 MB 525.0 kB/s eta 0:00:09\n",
            "   ---------------------- ----------------- 6.0/10.7 MB 525.0 kB/s eta 0:00:09\n",
            "   ---------------------- ----------------- 6.0/10.7 MB 525.0 kB/s eta 0:00:09\n",
            "   ----------------------- ---------------- 6.3/10.7 MB 518.6 kB/s eta 0:00:09\n",
            "   ----------------------- ---------------- 6.3/10.7 MB 518.6 kB/s eta 0:00:09\n",
            "   ----------------------- ---------------- 6.3/10.7 MB 518.6 kB/s eta 0:00:09\n",
            "   ------------------------ --------------- 6.6/10.7 MB 514.2 kB/s eta 0:00:09\n",
            "   ------------------------ --------------- 6.6/10.7 MB 514.2 kB/s eta 0:00:09\n",
            "   ------------------------ --------------- 6.6/10.7 MB 514.2 kB/s eta 0:00:09\n",
            "   ------------------------ --------------- 6.6/10.7 MB 514.2 kB/s eta 0:00:09\n",
            "   ------------------------ --------------- 6.6/10.7 MB 514.2 kB/s eta 0:00:09\n",
            "   ------------------------- -------------- 6.8/10.7 MB 497.5 kB/s eta 0:00:08\n",
            "   ------------------------- -------------- 6.8/10.7 MB 497.5 kB/s eta 0:00:08\n",
            "   ------------------------- -------------- 6.8/10.7 MB 497.5 kB/s eta 0:00:08\n",
            "   -------------------------- ------------- 7.1/10.7 MB 491.2 kB/s eta 0:00:08\n",
            "   -------------------------- ------------- 7.1/10.7 MB 491.2 kB/s eta 0:00:08\n",
            "   --------------------------- ------------ 7.3/10.7 MB 492.9 kB/s eta 0:00:07\n",
            "   --------------------------- ------------ 7.3/10.7 MB 492.9 kB/s eta 0:00:07\n",
            "   --------------------------- ------------ 7.3/10.7 MB 492.9 kB/s eta 0:00:07\n",
            "   ---------------------------- ----------- 7.6/10.7 MB 494.5 kB/s eta 0:00:07\n",
            "   ---------------------------- ----------- 7.6/10.7 MB 494.5 kB/s eta 0:00:07\n",
            "   ----------------------------- ---------- 7.9/10.7 MB 493.9 kB/s eta 0:00:06\n",
            "   ----------------------------- ---------- 7.9/10.7 MB 493.9 kB/s eta 0:00:06\n",
            "   ----------------------------- ---------- 7.9/10.7 MB 493.9 kB/s eta 0:00:06\n",
            "   ------------------------------ --------- 8.1/10.7 MB 490.6 kB/s eta 0:00:06\n",
            "   ------------------------------ --------- 8.1/10.7 MB 490.6 kB/s eta 0:00:06\n",
            "   ------------------------------ --------- 8.1/10.7 MB 490.6 kB/s eta 0:00:06\n",
            "   ------------------------------- -------- 8.4/10.7 MB 490.2 kB/s eta 0:00:05\n",
            "   ------------------------------- -------- 8.4/10.7 MB 490.2 kB/s eta 0:00:05\n",
            "   -------------------------------- ------- 8.7/10.7 MB 489.0 kB/s eta 0:00:05\n",
            "   -------------------------------- ------- 8.7/10.7 MB 489.0 kB/s eta 0:00:05\n",
            "   --------------------------------- ------ 8.9/10.7 MB 494.8 kB/s eta 0:00:04\n",
            "   --------------------------------- ------ 8.9/10.7 MB 494.8 kB/s eta 0:00:04\n",
            "   ---------------------------------- ----- 9.2/10.7 MB 499.0 kB/s eta 0:00:04\n",
            "   ---------------------------------- ----- 9.2/10.7 MB 499.0 kB/s eta 0:00:04\n",
            "   ---------------------------------- ----- 9.2/10.7 MB 499.0 kB/s eta 0:00:04\n",
            "   ----------------------------------- ---- 9.4/10.7 MB 496.4 kB/s eta 0:00:03\n",
            "   ----------------------------------- ---- 9.4/10.7 MB 496.4 kB/s eta 0:00:03\n",
            "   ----------------------------------- ---- 9.4/10.7 MB 496.4 kB/s eta 0:00:03\n",
            "   ----------------------------------- ---- 9.4/10.7 MB 496.4 kB/s eta 0:00:03\n",
            "   ------------------------------------ --- 9.7/10.7 MB 485.1 kB/s eta 0:00:03\n",
            "   ------------------------------------ --- 9.7/10.7 MB 485.1 kB/s eta 0:00:03\n",
            "   ------------------------------------ --- 9.7/10.7 MB 485.1 kB/s eta 0:00:03\n",
            "   ------------------------------------ --- 9.7/10.7 MB 485.1 kB/s eta 0:00:03\n",
            "   ------------------------------------- -- 10.0/10.7 MB 478.6 kB/s eta 0:00:02\n",
            "   ------------------------------------- -- 10.0/10.7 MB 478.6 kB/s eta 0:00:02\n",
            "   ------------------------------------- -- 10.0/10.7 MB 478.6 kB/s eta 0:00:02\n",
            "   -------------------------------------- - 10.2/10.7 MB 475.8 kB/s eta 0:00:02\n",
            "   -------------------------------------- - 10.2/10.7 MB 475.8 kB/s eta 0:00:02\n",
            "   -------------------------------------- - 10.2/10.7 MB 475.8 kB/s eta 0:00:02\n",
            "   ---------------------------------------  10.5/10.7 MB 473.8 kB/s eta 0:00:01\n",
            "   ---------------------------------------  10.5/10.7 MB 473.8 kB/s eta 0:00:01\n",
            "   ---------------------------------------- 10.7/10.7 MB 475.2 kB/s eta 0:00:00\n",
            "Downloading joblib-1.5.1-py3-none-any.whl (307 kB)\n",
            "Downloading scipy-1.15.3-cp311-cp311-win_amd64.whl (41.2 MB)\n",
            "   ---------------------------------------- 0.0/41.2 MB ? eta -:--:--\n",
            "   ---------------------------------------- 0.0/41.2 MB ? eta -:--:--\n",
            "   ---------------------------------------- 0.0/41.2 MB ? eta -:--:--\n",
            "   ---------------------------------------- 0.0/41.2 MB ? eta -:--:--\n",
            "   ---------------------------------------- 0.0/41.2 MB ? eta -:--:--\n",
            "   ---------------------------------------- 0.3/41.2 MB ? eta -:--:--\n",
            "   ---------------------------------------- 0.3/41.2 MB ? eta -:--:--\n",
            "   ---------------------------------------- 0.3/41.2 MB ? eta -:--:--\n",
            "   ---------------------------------------- 0.3/41.2 MB ? eta -:--:--\n",
            "   ---------------------------------------- 0.3/41.2 MB ? eta -:--:--\n",
            "   ---------------------------------------- 0.3/41.2 MB ? eta -:--:--\n",
            "    --------------------------------------- 0.5/41.2 MB 217.9 kB/s eta 0:03:07\n",
            "    --------------------------------------- 0.5/41.2 MB 217.9 kB/s eta 0:03:07\n",
            "    --------------------------------------- 0.5/41.2 MB 217.9 kB/s eta 0:03:07\n",
            "    --------------------------------------- 0.5/41.2 MB 217.9 kB/s eta 0:03:07\n",
            "    --------------------------------------- 0.8/41.2 MB 264.3 kB/s eta 0:02:34\n",
            "    --------------------------------------- 0.8/41.2 MB 264.3 kB/s eta 0:02:34\n",
            "    --------------------------------------- 0.8/41.2 MB 264.3 kB/s eta 0:02:34\n",
            "   - -------------------------------------- 1.0/41.2 MB 289.3 kB/s eta 0:02:19\n",
            "   - -------------------------------------- 1.0/41.2 MB 289.3 kB/s eta 0:02:19\n",
            "   - -------------------------------------- 1.3/41.2 MB 329.0 kB/s eta 0:02:02\n",
            "   - -------------------------------------- 1.3/41.2 MB 329.0 kB/s eta 0:02:02\n",
            "   - -------------------------------------- 1.3/41.2 MB 329.0 kB/s eta 0:02:02\n",
            "   - -------------------------------------- 1.6/41.2 MB 339.7 kB/s eta 0:01:57\n",
            "   - -------------------------------------- 1.6/41.2 MB 339.7 kB/s eta 0:01:57\n",
            "   - -------------------------------------- 1.6/41.2 MB 339.7 kB/s eta 0:01:57\n",
            "   - -------------------------------------- 1.8/41.2 MB 352.0 kB/s eta 0:01:52\n",
            "   - -------------------------------------- 1.8/41.2 MB 352.0 kB/s eta 0:01:52\n",
            "   - -------------------------------------- 1.8/41.2 MB 352.0 kB/s eta 0:01:52\n",
            "   -- ------------------------------------- 2.1/41.2 MB 362.5 kB/s eta 0:01:48\n",
            "   -- ------------------------------------- 2.1/41.2 MB 362.5 kB/s eta 0:01:48\n",
            "   -- ------------------------------------- 2.1/41.2 MB 362.5 kB/s eta 0:01:48\n",
            "   -- ------------------------------------- 2.4/41.2 MB 368.8 kB/s eta 0:01:46\n",
            "   -- ------------------------------------- 2.4/41.2 MB 368.8 kB/s eta 0:01:46\n",
            "   -- ------------------------------------- 2.4/41.2 MB 368.8 kB/s eta 0:01:46\n",
            "   -- ------------------------------------- 2.4/41.2 MB 368.8 kB/s eta 0:01:46\n",
            "   -- ------------------------------------- 2.4/41.2 MB 368.8 kB/s eta 0:01:46\n",
            "   -- ------------------------------------- 2.6/41.2 MB 356.1 kB/s eta 0:01:49\n",
            "   -- ------------------------------------- 2.6/41.2 MB 356.1 kB/s eta 0:01:49\n",
            "   -- ------------------------------------- 2.6/41.2 MB 356.1 kB/s eta 0:01:49\n",
            "   -- ------------------------------------- 2.9/41.2 MB 354.7 kB/s eta 0:01:49\n",
            "   -- ------------------------------------- 2.9/41.2 MB 354.7 kB/s eta 0:01:49\n",
            "   -- ------------------------------------- 2.9/41.2 MB 354.7 kB/s eta 0:01:49\n",
            "   --- ------------------------------------ 3.1/41.2 MB 364.0 kB/s eta 0:01:45\n",
            "   --- ------------------------------------ 3.1/41.2 MB 364.0 kB/s eta 0:01:45\n",
            "   --- ------------------------------------ 3.1/41.2 MB 364.0 kB/s eta 0:01:45\n",
            "   --- ------------------------------------ 3.4/41.2 MB 368.1 kB/s eta 0:01:43\n",
            "   --- ------------------------------------ 3.4/41.2 MB 368.1 kB/s eta 0:01:43\n",
            "   --- ------------------------------------ 3.4/41.2 MB 368.1 kB/s eta 0:01:43\n",
            "   --- ------------------------------------ 3.7/41.2 MB 370.9 kB/s eta 0:01:42\n",
            "   --- ------------------------------------ 3.7/41.2 MB 370.9 kB/s eta 0:01:42\n",
            "   --- ------------------------------------ 3.7/41.2 MB 370.9 kB/s eta 0:01:42\n",
            "   --- ------------------------------------ 3.9/41.2 MB 374.0 kB/s eta 0:01:40\n",
            "   --- ------------------------------------ 3.9/41.2 MB 374.0 kB/s eta 0:01:40\n",
            "   ---- ----------------------------------- 4.2/41.2 MB 383.1 kB/s eta 0:01:37\n",
            "   ---- ----------------------------------- 4.2/41.2 MB 383.1 kB/s eta 0:01:37\n",
            "   ---- ----------------------------------- 4.2/41.2 MB 383.1 kB/s eta 0:01:37\n",
            "   ---- ----------------------------------- 4.5/41.2 MB 385.7 kB/s eta 0:01:36\n",
            "   ---- ----------------------------------- 4.5/41.2 MB 385.7 kB/s eta 0:01:36\n",
            "   ---- ----------------------------------- 4.7/41.2 MB 396.1 kB/s eta 0:01:33\n",
            "   ---- ----------------------------------- 4.7/41.2 MB 396.1 kB/s eta 0:01:33\n",
            "   ---- ----------------------------------- 5.0/41.2 MB 404.3 kB/s eta 0:01:30\n",
            "   ---- ----------------------------------- 5.0/41.2 MB 404.3 kB/s eta 0:01:30\n",
            "   ----- ---------------------------------- 5.2/41.2 MB 412.9 kB/s eta 0:01:28\n",
            "   ----- ---------------------------------- 5.2/41.2 MB 412.9 kB/s eta 0:01:28\n",
            "   ----- ---------------------------------- 5.2/41.2 MB 412.9 kB/s eta 0:01:28\n",
            "   ----- ---------------------------------- 5.2/41.2 MB 412.9 kB/s eta 0:01:28\n",
            "   ----- ---------------------------------- 5.5/41.2 MB 401.9 kB/s eta 0:01:29\n",
            "   ----- ---------------------------------- 5.5/41.2 MB 401.9 kB/s eta 0:01:29\n",
            "   ----- ---------------------------------- 5.5/41.2 MB 401.9 kB/s eta 0:01:29\n",
            "   ----- ---------------------------------- 5.8/41.2 MB 402.7 kB/s eta 0:01:29\n",
            "   ----- ---------------------------------- 5.8/41.2 MB 402.7 kB/s eta 0:01:29\n",
            "   ----- ---------------------------------- 5.8/41.2 MB 402.7 kB/s eta 0:01:29\n",
            "   ----- ---------------------------------- 5.8/41.2 MB 402.7 kB/s eta 0:01:29\n",
            "   ----- ---------------------------------- 5.8/41.2 MB 402.7 kB/s eta 0:01:29\n",
            "   ----- ---------------------------------- 6.0/41.2 MB 392.7 kB/s eta 0:01:30\n",
            "   ----- ---------------------------------- 6.0/41.2 MB 392.7 kB/s eta 0:01:30\n",
            "   ----- ---------------------------------- 6.0/41.2 MB 392.7 kB/s eta 0:01:30\n",
            "   ----- ---------------------------------- 6.0/41.2 MB 392.7 kB/s eta 0:01:30\n",
            "   ------ --------------------------------- 6.3/41.2 MB 386.7 kB/s eta 0:01:31\n",
            "   ------ --------------------------------- 6.3/41.2 MB 386.7 kB/s eta 0:01:31\n",
            "   ------ --------------------------------- 6.3/41.2 MB 386.7 kB/s eta 0:01:31\n",
            "   ------ --------------------------------- 6.3/41.2 MB 386.7 kB/s eta 0:01:31\n",
            "   ------ --------------------------------- 6.3/41.2 MB 386.7 kB/s eta 0:01:31\n",
            "   ------ --------------------------------- 6.3/41.2 MB 386.7 kB/s eta 0:01:31\n",
            "   ------ --------------------------------- 6.6/41.2 MB 375.6 kB/s eta 0:01:33\n",
            "   ------ --------------------------------- 6.6/41.2 MB 375.6 kB/s eta 0:01:33\n",
            "   ------ --------------------------------- 6.6/41.2 MB 375.6 kB/s eta 0:01:33\n",
            "   ------ --------------------------------- 6.8/41.2 MB 377.2 kB/s eta 0:01:32\n",
            "   ------ --------------------------------- 6.8/41.2 MB 377.2 kB/s eta 0:01:32\n",
            "   ------ --------------------------------- 6.8/41.2 MB 377.2 kB/s eta 0:01:32\n",
            "   ------ --------------------------------- 7.1/41.2 MB 377.0 kB/s eta 0:01:31\n",
            "   ------ --------------------------------- 7.1/41.2 MB 377.0 kB/s eta 0:01:31\n",
            "   ------ --------------------------------- 7.1/41.2 MB 377.0 kB/s eta 0:01:31\n",
            "   ------- -------------------------------- 7.3/41.2 MB 380.0 kB/s eta 0:01:30\n",
            "   ------- -------------------------------- 7.3/41.2 MB 380.0 kB/s eta 0:01:30\n",
            "   ------- -------------------------------- 7.3/41.2 MB 380.0 kB/s eta 0:01:30\n",
            "   ------- -------------------------------- 7.6/41.2 MB 380.4 kB/s eta 0:01:29\n",
            "   ------- -------------------------------- 7.6/41.2 MB 380.4 kB/s eta 0:01:29\n",
            "   ------- -------------------------------- 7.6/41.2 MB 380.4 kB/s eta 0:01:29\n",
            "   ------- -------------------------------- 7.9/41.2 MB 381.6 kB/s eta 0:01:28\n",
            "   ------- -------------------------------- 7.9/41.2 MB 381.6 kB/s eta 0:01:28\n",
            "   ------- -------------------------------- 7.9/41.2 MB 381.6 kB/s eta 0:01:28\n",
            "   ------- -------------------------------- 8.1/41.2 MB 385.4 kB/s eta 0:01:26\n",
            "   ------- -------------------------------- 8.1/41.2 MB 385.4 kB/s eta 0:01:26\n",
            "   -------- ------------------------------- 8.4/41.2 MB 389.9 kB/s eta 0:01:25\n",
            "   -------- ------------------------------- 8.7/41.2 MB 395.9 kB/s eta 0:01:23\n",
            "   -------- ------------------------------- 8.7/41.2 MB 395.9 kB/s eta 0:01:23\n",
            "   -------- ------------------------------- 8.9/41.2 MB 401.5 kB/s eta 0:01:21\n",
            "   -------- ------------------------------- 8.9/41.2 MB 401.5 kB/s eta 0:01:21\n",
            "   -------- ------------------------------- 8.9/41.2 MB 401.5 kB/s eta 0:01:21\n",
            "   -------- ------------------------------- 9.2/41.2 MB 402.0 kB/s eta 0:01:20\n",
            "   -------- ------------------------------- 9.2/41.2 MB 402.0 kB/s eta 0:01:20\n",
            "   --------- ------------------------------ 9.4/41.2 MB 405.5 kB/s eta 0:01:19\n",
            "   --------- ------------------------------ 9.4/41.2 MB 405.5 kB/s eta 0:01:19\n",
            "   --------- ------------------------------ 9.7/41.2 MB 409.2 kB/s eta 0:01:18\n",
            "   --------- ------------------------------ 9.7/41.2 MB 409.2 kB/s eta 0:01:18\n",
            "   --------- ------------------------------ 10.0/41.2 MB 412.7 kB/s eta 0:01:16\n",
            "   --------- ------------------------------ 10.0/41.2 MB 412.7 kB/s eta 0:01:16\n",
            "   --------- ------------------------------ 10.2/41.2 MB 416.4 kB/s eta 0:01:15\n",
            "   --------- ------------------------------ 10.2/41.2 MB 416.4 kB/s eta 0:01:15\n",
            "   --------- ------------------------------ 10.2/41.2 MB 416.4 kB/s eta 0:01:15\n",
            "   --------- ------------------------------ 10.2/41.2 MB 416.4 kB/s eta 0:01:15\n",
            "   ---------- ----------------------------- 10.5/41.2 MB 416.2 kB/s eta 0:01:14\n",
            "   ---------- ----------------------------- 10.5/41.2 MB 416.2 kB/s eta 0:01:14\n",
            "   ---------- ----------------------------- 10.7/41.2 MB 420.0 kB/s eta 0:01:13\n",
            "   ---------- ----------------------------- 10.7/41.2 MB 420.0 kB/s eta 0:01:13\n",
            "   ---------- ----------------------------- 11.0/41.2 MB 422.3 kB/s eta 0:01:12\n",
            "   ---------- ----------------------------- 11.0/41.2 MB 422.3 kB/s eta 0:01:12\n",
            "   ---------- ----------------------------- 11.0/41.2 MB 422.3 kB/s eta 0:01:12\n",
            "   ---------- ----------------------------- 11.3/41.2 MB 422.7 kB/s eta 0:01:11\n",
            "   ---------- ----------------------------- 11.3/41.2 MB 422.7 kB/s eta 0:01:11\n",
            "   ----------- ---------------------------- 11.5/41.2 MB 424.9 kB/s eta 0:01:10\n",
            "   ----------- ---------------------------- 11.5/41.2 MB 424.9 kB/s eta 0:01:10\n",
            "   ----------- ---------------------------- 11.8/41.2 MB 427.0 kB/s eta 0:01:09\n",
            "   ----------- ---------------------------- 11.8/41.2 MB 427.0 kB/s eta 0:01:09\n",
            "   ----------- ---------------------------- 12.1/41.2 MB 430.2 kB/s eta 0:01:08\n",
            "   ----------- ---------------------------- 12.1/41.2 MB 430.2 kB/s eta 0:01:08\n",
            "   ----------- ---------------------------- 12.3/41.2 MB 433.8 kB/s eta 0:01:07\n",
            "   ----------- ---------------------------- 12.3/41.2 MB 433.8 kB/s eta 0:01:07\n",
            "   ------------ --------------------------- 12.6/41.2 MB 437.4 kB/s eta 0:01:06\n",
            "   ------------ --------------------------- 12.8/41.2 MB 441.8 kB/s eta 0:01:05\n",
            "   ------------ --------------------------- 12.8/41.2 MB 441.8 kB/s eta 0:01:05\n",
            "   ------------ --------------------------- 13.1/41.2 MB 445.6 kB/s eta 0:01:04\n",
            "   ------------ --------------------------- 13.1/41.2 MB 445.6 kB/s eta 0:01:04\n",
            "   ------------ --------------------------- 13.4/41.2 MB 449.8 kB/s eta 0:01:02\n",
            "   ------------ --------------------------- 13.4/41.2 MB 449.8 kB/s eta 0:01:02\n",
            "   ------------- -------------------------- 13.6/41.2 MB 451.3 kB/s eta 0:01:02\n",
            "   ------------- -------------------------- 13.6/41.2 MB 451.3 kB/s eta 0:01:02\n",
            "   ------------- -------------------------- 13.9/41.2 MB 462.5 kB/s eta 0:01:00\n",
            "   ------------- -------------------------- 13.9/41.2 MB 462.5 kB/s eta 0:01:00\n",
            "   ------------- -------------------------- 13.9/41.2 MB 462.5 kB/s eta 0:01:00\n",
            "   ------------- -------------------------- 14.2/41.2 MB 462.8 kB/s eta 0:00:59\n",
            "   ------------- -------------------------- 14.2/41.2 MB 462.8 kB/s eta 0:00:59\n",
            "   ------------- -------------------------- 14.4/41.2 MB 464.8 kB/s eta 0:00:58\n",
            "   ------------- -------------------------- 14.4/41.2 MB 464.8 kB/s eta 0:00:58\n",
            "   -------------- ------------------------- 14.7/41.2 MB 469.7 kB/s eta 0:00:57\n",
            "   -------------- ------------------------- 14.7/41.2 MB 469.7 kB/s eta 0:00:57\n",
            "   -------------- ------------------------- 14.7/41.2 MB 469.7 kB/s eta 0:00:57\n",
            "   -------------- ------------------------- 14.9/41.2 MB 474.0 kB/s eta 0:00:56\n",
            "   -------------- ------------------------- 14.9/41.2 MB 474.0 kB/s eta 0:00:56\n",
            "   -------------- ------------------------- 14.9/41.2 MB 474.0 kB/s eta 0:00:56\n",
            "   -------------- ------------------------- 15.2/41.2 MB 473.3 kB/s eta 0:00:56\n",
            "   -------------- ------------------------- 15.5/41.2 MB 474.3 kB/s eta 0:00:55\n",
            "   -------------- ------------------------- 15.5/41.2 MB 474.3 kB/s eta 0:00:55\n",
            "   -------------- ------------------------- 15.5/41.2 MB 474.3 kB/s eta 0:00:55\n",
            "   --------------- ------------------------ 15.7/41.2 MB 476.8 kB/s eta 0:00:54\n",
            "   --------------- ------------------------ 15.7/41.2 MB 476.8 kB/s eta 0:00:54\n",
            "   --------------- ------------------------ 16.0/41.2 MB 479.6 kB/s eta 0:00:53\n",
            "   --------------- ------------------------ 16.0/41.2 MB 479.6 kB/s eta 0:00:53\n",
            "   --------------- ------------------------ 16.3/41.2 MB 482.1 kB/s eta 0:00:52\n",
            "   --------------- ------------------------ 16.3/41.2 MB 482.1 kB/s eta 0:00:52\n",
            "   ---------------- ----------------------- 16.5/41.2 MB 484.6 kB/s eta 0:00:52\n",
            "   ---------------- ----------------------- 16.5/41.2 MB 484.6 kB/s eta 0:00:52\n",
            "   ---------------- ----------------------- 16.5/41.2 MB 484.6 kB/s eta 0:00:52\n",
            "   ---------------- ----------------------- 16.8/41.2 MB 486.4 kB/s eta 0:00:51\n",
            "   ---------------- ----------------------- 16.8/41.2 MB 486.4 kB/s eta 0:00:51\n",
            "   ---------------- ----------------------- 17.0/41.2 MB 492.9 kB/s eta 0:00:50\n",
            "   ---------------- ----------------------- 17.0/41.2 MB 492.9 kB/s eta 0:00:50\n",
            "   ---------------- ----------------------- 17.3/41.2 MB 494.0 kB/s eta 0:00:49\n",
            "   ---------------- ----------------------- 17.3/41.2 MB 494.0 kB/s eta 0:00:49\n",
            "   ----------------- ---------------------- 17.6/41.2 MB 500.3 kB/s eta 0:00:48\n",
            "   ----------------- ---------------------- 17.6/41.2 MB 500.3 kB/s eta 0:00:48\n",
            "   ----------------- ---------------------- 17.6/41.2 MB 500.3 kB/s eta 0:00:48\n",
            "   ----------------- ---------------------- 17.6/41.2 MB 500.3 kB/s eta 0:00:48\n",
            "   ----------------- ---------------------- 17.8/41.2 MB 495.8 kB/s eta 0:00:48\n",
            "   ----------------- ---------------------- 17.8/41.2 MB 495.8 kB/s eta 0:00:48\n",
            "   ----------------- ---------------------- 17.8/41.2 MB 495.8 kB/s eta 0:00:48\n",
            "   ----------------- ---------------------- 18.1/41.2 MB 497.9 kB/s eta 0:00:47\n",
            "   ----------------- ---------------------- 18.1/41.2 MB 497.9 kB/s eta 0:00:47\n",
            "   ----------------- ---------------------- 18.4/41.2 MB 498.9 kB/s eta 0:00:46\n",
            "   ----------------- ---------------------- 18.4/41.2 MB 498.9 kB/s eta 0:00:46\n",
            "   ----------------- ---------------------- 18.4/41.2 MB 498.9 kB/s eta 0:00:46\n",
            "   ------------------ --------------------- 18.6/41.2 MB 499.5 kB/s eta 0:00:46\n",
            "   ------------------ --------------------- 18.6/41.2 MB 499.5 kB/s eta 0:00:46\n",
            "   ------------------ --------------------- 18.9/41.2 MB 501.2 kB/s eta 0:00:45\n",
            "   ------------------ --------------------- 18.9/41.2 MB 501.2 kB/s eta 0:00:45\n",
            "   ------------------ --------------------- 19.1/41.2 MB 500.4 kB/s eta 0:00:45\n",
            "   ------------------ --------------------- 19.1/41.2 MB 500.4 kB/s eta 0:00:45\n",
            "   ------------------ --------------------- 19.4/41.2 MB 504.6 kB/s eta 0:00:44\n",
            "   ------------------ --------------------- 19.4/41.2 MB 504.6 kB/s eta 0:00:44\n",
            "   ------------------ --------------------- 19.4/41.2 MB 504.6 kB/s eta 0:00:44\n",
            "   ------------------- -------------------- 19.7/41.2 MB 502.0 kB/s eta 0:00:43\n",
            "   ------------------- -------------------- 19.7/41.2 MB 502.0 kB/s eta 0:00:43\n",
            "   ------------------- -------------------- 19.7/41.2 MB 502.0 kB/s eta 0:00:43\n",
            "   ------------------- -------------------- 19.9/41.2 MB 498.8 kB/s eta 0:00:43\n",
            "   ------------------- -------------------- 19.9/41.2 MB 498.8 kB/s eta 0:00:43\n",
            "   ------------------- -------------------- 19.9/41.2 MB 498.8 kB/s eta 0:00:43\n",
            "   ------------------- -------------------- 20.2/41.2 MB 502.9 kB/s eta 0:00:42\n",
            "   ------------------- -------------------- 20.2/41.2 MB 502.9 kB/s eta 0:00:42\n",
            "   ------------------- -------------------- 20.2/41.2 MB 502.9 kB/s eta 0:00:42\n",
            "   ------------------- -------------------- 20.4/41.2 MB 499.4 kB/s eta 0:00:42\n",
            "   ------------------- -------------------- 20.4/41.2 MB 499.4 kB/s eta 0:00:42\n",
            "   ------------------- -------------------- 20.4/41.2 MB 499.4 kB/s eta 0:00:42\n",
            "   -------------------- ------------------- 20.7/41.2 MB 500.7 kB/s eta 0:00:42\n",
            "   -------------------- ------------------- 21.0/41.2 MB 512.5 kB/s eta 0:00:40\n",
            "   -------------------- ------------------- 21.0/41.2 MB 512.5 kB/s eta 0:00:40\n",
            "   -------------------- ------------------- 21.2/41.2 MB 515.4 kB/s eta 0:00:39\n",
            "   -------------------- ------------------- 21.2/41.2 MB 515.4 kB/s eta 0:00:39\n",
            "   -------------------- ------------------- 21.2/41.2 MB 515.4 kB/s eta 0:00:39\n",
            "   -------------------- ------------------- 21.2/41.2 MB 515.4 kB/s eta 0:00:39\n",
            "   -------------------- ------------------- 21.5/41.2 MB 515.7 kB/s eta 0:00:39\n",
            "   -------------------- ------------------- 21.5/41.2 MB 515.7 kB/s eta 0:00:39\n",
            "   -------------------- ------------------- 21.5/41.2 MB 515.7 kB/s eta 0:00:39\n",
            "   -------------------- ------------------- 21.5/41.2 MB 515.7 kB/s eta 0:00:39\n",
            "   -------------------- ------------------- 21.5/41.2 MB 515.7 kB/s eta 0:00:39\n",
            "   -------------------- ------------------- 21.5/41.2 MB 515.7 kB/s eta 0:00:39\n",
            "   -------------------- ------------------- 21.5/41.2 MB 515.7 kB/s eta 0:00:39\n",
            "   -------------------- ------------------- 21.5/41.2 MB 515.7 kB/s eta 0:00:39\n",
            "   -------------------- ------------------- 21.5/41.2 MB 515.7 kB/s eta 0:00:39\n",
            "   --------------------- ------------------ 21.8/41.2 MB 507.1 kB/s eta 0:00:39\n",
            "   --------------------- ------------------ 21.8/41.2 MB 507.1 kB/s eta 0:00:39\n",
            "   --------------------- ------------------ 21.8/41.2 MB 507.1 kB/s eta 0:00:39\n",
            "   --------------------- ------------------ 22.0/41.2 MB 506.3 kB/s eta 0:00:38\n",
            "   --------------------- ------------------ 22.0/41.2 MB 506.3 kB/s eta 0:00:38\n",
            "   --------------------- ------------------ 22.0/41.2 MB 506.3 kB/s eta 0:00:38\n",
            "   --------------------- ------------------ 22.3/41.2 MB 504.9 kB/s eta 0:00:38\n",
            "   --------------------- ------------------ 22.3/41.2 MB 504.9 kB/s eta 0:00:38\n",
            "   --------------------- ------------------ 22.3/41.2 MB 504.9 kB/s eta 0:00:38\n",
            "   --------------------- ------------------ 22.5/41.2 MB 506.2 kB/s eta 0:00:37\n",
            "   --------------------- ------------------ 22.5/41.2 MB 506.2 kB/s eta 0:00:37\n",
            "   --------------------- ------------------ 22.5/41.2 MB 506.2 kB/s eta 0:00:37\n",
            "   ---------------------- ----------------- 22.8/41.2 MB 507.0 kB/s eta 0:00:37\n",
            "   ---------------------- ----------------- 22.8/41.2 MB 507.0 kB/s eta 0:00:37\n",
            "   ---------------------- ----------------- 22.8/41.2 MB 507.0 kB/s eta 0:00:37\n",
            "   ---------------------- ----------------- 23.1/41.2 MB 506.0 kB/s eta 0:00:36\n",
            "   ---------------------- ----------------- 23.1/41.2 MB 506.0 kB/s eta 0:00:36\n",
            "   ---------------------- ----------------- 23.3/41.2 MB 503.3 kB/s eta 0:00:36\n",
            "   ---------------------- ----------------- 23.3/41.2 MB 503.3 kB/s eta 0:00:36\n",
            "   ---------------------- ----------------- 23.3/41.2 MB 503.3 kB/s eta 0:00:36\n",
            "   ---------------------- ----------------- 23.3/41.2 MB 503.3 kB/s eta 0:00:36\n",
            "   ---------------------- ----------------- 23.6/41.2 MB 493.4 kB/s eta 0:00:36\n",
            "   ---------------------- ----------------- 23.6/41.2 MB 493.4 kB/s eta 0:00:36\n",
            "   ---------------------- ----------------- 23.6/41.2 MB 493.4 kB/s eta 0:00:36\n",
            "   ---------------------- ----------------- 23.6/41.2 MB 493.4 kB/s eta 0:00:36\n",
            "   ----------------------- ---------------- 23.9/41.2 MB 490.3 kB/s eta 0:00:36\n",
            "   ----------------------- ---------------- 23.9/41.2 MB 490.3 kB/s eta 0:00:36\n",
            "   ----------------------- ---------------- 23.9/41.2 MB 490.3 kB/s eta 0:00:36\n",
            "   ----------------------- ---------------- 24.1/41.2 MB 485.1 kB/s eta 0:00:36\n",
            "   ----------------------- ---------------- 24.1/41.2 MB 485.1 kB/s eta 0:00:36\n",
            "   ----------------------- ---------------- 24.1/41.2 MB 485.1 kB/s eta 0:00:36\n",
            "   ----------------------- ---------------- 24.1/41.2 MB 485.1 kB/s eta 0:00:36\n",
            "   ----------------------- ---------------- 24.4/41.2 MB 477.1 kB/s eta 0:00:36\n",
            "   ----------------------- ---------------- 24.4/41.2 MB 477.1 kB/s eta 0:00:36\n",
            "   ----------------------- ---------------- 24.4/41.2 MB 477.1 kB/s eta 0:00:36\n",
            "   ----------------------- ---------------- 24.4/41.2 MB 477.1 kB/s eta 0:00:36\n",
            "   ----------------------- ---------------- 24.4/41.2 MB 477.1 kB/s eta 0:00:36\n",
            "   ----------------------- ---------------- 24.6/41.2 MB 472.1 kB/s eta 0:00:36\n",
            "   ----------------------- ---------------- 24.6/41.2 MB 472.1 kB/s eta 0:00:36\n",
            "   ----------------------- ---------------- 24.6/41.2 MB 472.1 kB/s eta 0:00:36\n",
            "   ------------------------ --------------- 24.9/41.2 MB 466.5 kB/s eta 0:00:36\n",
            "   ------------------------ --------------- 24.9/41.2 MB 466.5 kB/s eta 0:00:36\n",
            "   ------------------------ --------------- 24.9/41.2 MB 466.5 kB/s eta 0:00:36\n",
            "   ------------------------ --------------- 25.2/41.2 MB 467.7 kB/s eta 0:00:35\n",
            "   ------------------------ --------------- 25.2/41.2 MB 467.7 kB/s eta 0:00:35\n",
            "   ------------------------ --------------- 25.4/41.2 MB 467.3 kB/s eta 0:00:34\n",
            "   ------------------------ --------------- 25.4/41.2 MB 467.3 kB/s eta 0:00:34\n",
            "   ------------------------ --------------- 25.4/41.2 MB 467.3 kB/s eta 0:00:34\n",
            "   ------------------------ --------------- 25.7/41.2 MB 465.3 kB/s eta 0:00:34\n",
            "   ------------------------ --------------- 25.7/41.2 MB 465.3 kB/s eta 0:00:34\n",
            "   ------------------------ --------------- 25.7/41.2 MB 465.3 kB/s eta 0:00:34\n",
            "   ------------------------- -------------- 26.0/41.2 MB 458.4 kB/s eta 0:00:34\n",
            "   ------------------------- -------------- 26.0/41.2 MB 458.4 kB/s eta 0:00:34\n",
            "   ------------------------- -------------- 26.0/41.2 MB 458.4 kB/s eta 0:00:34\n",
            "   ------------------------- -------------- 26.0/41.2 MB 458.4 kB/s eta 0:00:34\n",
            "   ------------------------- -------------- 26.2/41.2 MB 448.7 kB/s eta 0:00:34\n",
            "   ------------------------- -------------- 26.2/41.2 MB 448.7 kB/s eta 0:00:34\n",
            "   ------------------------- -------------- 26.2/41.2 MB 448.7 kB/s eta 0:00:34\n",
            "   ------------------------- -------------- 26.5/41.2 MB 440.1 kB/s eta 0:00:34\n",
            "   ------------------------- -------------- 26.5/41.2 MB 440.1 kB/s eta 0:00:34\n",
            "   ------------------------- -------------- 26.5/41.2 MB 440.1 kB/s eta 0:00:34\n",
            "   ------------------------- -------------- 26.5/41.2 MB 440.1 kB/s eta 0:00:34\n",
            "   ------------------------- -------------- 26.5/41.2 MB 440.1 kB/s eta 0:00:34\n",
            "   ------------------------- -------------- 26.5/41.2 MB 440.1 kB/s eta 0:00:34\n",
            "   ------------------------- -------------- 26.5/41.2 MB 440.1 kB/s eta 0:00:34\n",
            "   ------------------------- -------------- 26.5/41.2 MB 440.1 kB/s eta 0:00:34\n",
            "   ------------------------- -------------- 26.7/41.2 MB 420.1 kB/s eta 0:00:35\n",
            "   ------------------------- -------------- 26.7/41.2 MB 420.1 kB/s eta 0:00:35\n",
            "   ------------------------- -------------- 26.7/41.2 MB 420.1 kB/s eta 0:00:35\n",
            "   ------------------------- -------------- 26.7/41.2 MB 420.1 kB/s eta 0:00:35\n",
            "   -------------------------- ------------- 27.0/41.2 MB 411.5 kB/s eta 0:00:35\n",
            "   -------------------------- ------------- 27.0/41.2 MB 411.5 kB/s eta 0:00:35\n",
            "   -------------------------- ------------- 27.0/41.2 MB 411.5 kB/s eta 0:00:35\n",
            "   -------------------------- ------------- 27.3/41.2 MB 407.7 kB/s eta 0:00:35\n",
            "   -------------------------- ------------- 27.3/41.2 MB 407.7 kB/s eta 0:00:35\n",
            "   -------------------------- ------------- 27.3/41.2 MB 407.7 kB/s eta 0:00:35\n",
            "   -------------------------- ------------- 27.5/41.2 MB 410.7 kB/s eta 0:00:34\n",
            "   -------------------------- ------------- 27.8/41.2 MB 411.3 kB/s eta 0:00:33\n",
            "   -------------------------- ------------- 27.8/41.2 MB 411.3 kB/s eta 0:00:33\n",
            "   --------------------------- ------------ 28.0/41.2 MB 414.4 kB/s eta 0:00:32\n",
            "   --------------------------- ------------ 28.3/41.2 MB 416.1 kB/s eta 0:00:32\n",
            "   --------------------------- ------------ 28.3/41.2 MB 416.1 kB/s eta 0:00:32\n",
            "   --------------------------- ------------ 28.6/41.2 MB 420.1 kB/s eta 0:00:31\n",
            "   --------------------------- ------------ 28.6/41.2 MB 420.1 kB/s eta 0:00:31\n",
            "   --------------------------- ------------ 28.8/41.2 MB 420.5 kB/s eta 0:00:30\n",
            "   --------------------------- ------------ 28.8/41.2 MB 420.5 kB/s eta 0:00:30\n",
            "   --------------------------- ------------ 28.8/41.2 MB 420.5 kB/s eta 0:00:30\n",
            "   ---------------------------- ----------- 29.1/41.2 MB 416.1 kB/s eta 0:00:30\n",
            "   ---------------------------- ----------- 29.4/41.2 MB 420.1 kB/s eta 0:00:29\n",
            "   ---------------------------- ----------- 29.4/41.2 MB 420.1 kB/s eta 0:00:29\n",
            "   ---------------------------- ----------- 29.6/41.2 MB 423.4 kB/s eta 0:00:28\n",
            "   ---------------------------- ----------- 29.6/41.2 MB 423.4 kB/s eta 0:00:28\n",
            "   ---------------------------- ----------- 29.9/41.2 MB 422.7 kB/s eta 0:00:27\n",
            "   ---------------------------- ----------- 29.9/41.2 MB 422.7 kB/s eta 0:00:27\n",
            "   ---------------------------- ----------- 29.9/41.2 MB 422.7 kB/s eta 0:00:27\n",
            "   ---------------------------- ----------- 29.9/41.2 MB 422.7 kB/s eta 0:00:27\n",
            "   ----------------------------- ---------- 30.1/41.2 MB 420.8 kB/s eta 0:00:27\n",
            "   ----------------------------- ---------- 30.1/41.2 MB 420.8 kB/s eta 0:00:27\n",
            "   ----------------------------- ---------- 30.1/41.2 MB 420.8 kB/s eta 0:00:27\n",
            "   ----------------------------- ---------- 30.4/41.2 MB 421.0 kB/s eta 0:00:26\n",
            "   ----------------------------- ---------- 30.4/41.2 MB 421.0 kB/s eta 0:00:26\n",
            "   ----------------------------- ---------- 30.7/41.2 MB 420.3 kB/s eta 0:00:26\n",
            "   ----------------------------- ---------- 30.7/41.2 MB 420.3 kB/s eta 0:00:26\n",
            "   ----------------------------- ---------- 30.9/41.2 MB 422.1 kB/s eta 0:00:25\n",
            "   ----------------------------- ---------- 30.9/41.2 MB 422.1 kB/s eta 0:00:25\n",
            "   ------------------------------ --------- 31.2/41.2 MB 425.0 kB/s eta 0:00:24\n",
            "   ------------------------------ --------- 31.2/41.2 MB 425.0 kB/s eta 0:00:24\n",
            "   ------------------------------ --------- 31.5/41.2 MB 428.6 kB/s eta 0:00:23\n",
            "   ------------------------------ --------- 31.5/41.2 MB 428.6 kB/s eta 0:00:23\n",
            "   ------------------------------ --------- 31.7/41.2 MB 429.5 kB/s eta 0:00:23\n",
            "   ------------------------------ --------- 31.7/41.2 MB 429.5 kB/s eta 0:00:23\n",
            "   ------------------------------ --------- 31.7/41.2 MB 429.5 kB/s eta 0:00:23\n",
            "   ------------------------------- -------- 32.0/41.2 MB 422.7 kB/s eta 0:00:22\n",
            "   ------------------------------- -------- 32.0/41.2 MB 422.7 kB/s eta 0:00:22\n",
            "   ------------------------------- -------- 32.0/41.2 MB 422.7 kB/s eta 0:00:22\n",
            "   ------------------------------- -------- 32.2/41.2 MB 423.6 kB/s eta 0:00:22\n",
            "   ------------------------------- -------- 32.2/41.2 MB 423.6 kB/s eta 0:00:22\n",
            "   ------------------------------- -------- 32.5/41.2 MB 426.3 kB/s eta 0:00:21\n",
            "   ------------------------------- -------- 32.5/41.2 MB 426.3 kB/s eta 0:00:21\n",
            "   ------------------------------- -------- 32.8/41.2 MB 428.2 kB/s eta 0:00:20\n",
            "   ------------------------------- -------- 32.8/41.2 MB 428.2 kB/s eta 0:00:20\n",
            "   ------------------------------- -------- 32.8/41.2 MB 428.2 kB/s eta 0:00:20\n",
            "   -------------------------------- ------- 33.0/41.2 MB 428.8 kB/s eta 0:00:20\n",
            "   -------------------------------- ------- 33.0/41.2 MB 428.8 kB/s eta 0:00:20\n",
            "   -------------------------------- ------- 33.3/41.2 MB 431.5 kB/s eta 0:00:19\n",
            "   -------------------------------- ------- 33.3/41.2 MB 431.5 kB/s eta 0:00:19\n",
            "   -------------------------------- ------- 33.3/41.2 MB 431.5 kB/s eta 0:00:19\n",
            "   -------------------------------- ------- 33.3/41.2 MB 431.5 kB/s eta 0:00:19\n",
            "   -------------------------------- ------- 33.6/41.2 MB 429.5 kB/s eta 0:00:18\n",
            "   -------------------------------- ------- 33.6/41.2 MB 429.5 kB/s eta 0:00:18\n",
            "   -------------------------------- ------- 33.6/41.2 MB 429.5 kB/s eta 0:00:18\n",
            "   -------------------------------- ------- 33.8/41.2 MB 419.7 kB/s eta 0:00:18\n",
            "   -------------------------------- ------- 33.8/41.2 MB 419.7 kB/s eta 0:00:18\n",
            "   --------------------------------- ------ 34.1/41.2 MB 425.9 kB/s eta 0:00:17\n",
            "   --------------------------------- ------ 34.1/41.2 MB 425.9 kB/s eta 0:00:17\n",
            "   --------------------------------- ------ 34.3/41.2 MB 429.3 kB/s eta 0:00:17\n",
            "   --------------------------------- ------ 34.3/41.2 MB 429.3 kB/s eta 0:00:17\n",
            "   --------------------------------- ------ 34.3/41.2 MB 429.3 kB/s eta 0:00:17\n",
            "   --------------------------------- ------ 34.3/41.2 MB 429.3 kB/s eta 0:00:17\n",
            "   --------------------------------- ------ 34.3/41.2 MB 429.3 kB/s eta 0:00:17\n",
            "   --------------------------------- ------ 34.6/41.2 MB 441.0 kB/s eta 0:00:16\n",
            "   --------------------------------- ------ 34.9/41.2 MB 444.3 kB/s eta 0:00:15\n",
            "   --------------------------------- ------ 34.9/41.2 MB 444.3 kB/s eta 0:00:15\n",
            "   ---------------------------------- ----- 35.1/41.2 MB 447.0 kB/s eta 0:00:14\n",
            "   ---------------------------------- ----- 35.1/41.2 MB 447.0 kB/s eta 0:00:14\n",
            "   ---------------------------------- ----- 35.4/41.2 MB 453.0 kB/s eta 0:00:13\n",
            "   ---------------------------------- ----- 35.4/41.2 MB 453.0 kB/s eta 0:00:13\n",
            "   ---------------------------------- ----- 35.7/41.2 MB 456.0 kB/s eta 0:00:13\n",
            "   ---------------------------------- ----- 35.7/41.2 MB 456.0 kB/s eta 0:00:13\n",
            "   ---------------------------------- ----- 35.9/41.2 MB 459.6 kB/s eta 0:00:12\n",
            "   ---------------------------------- ----- 35.9/41.2 MB 459.6 kB/s eta 0:00:12\n",
            "   ----------------------------------- ---- 36.2/41.2 MB 461.6 kB/s eta 0:00:11\n",
            "   ----------------------------------- ---- 36.2/41.2 MB 461.6 kB/s eta 0:00:11\n",
            "   ----------------------------------- ---- 36.2/41.2 MB 461.6 kB/s eta 0:00:11\n",
            "   ----------------------------------- ---- 36.4/41.2 MB 461.6 kB/s eta 0:00:11\n",
            "   ----------------------------------- ---- 36.4/41.2 MB 461.6 kB/s eta 0:00:11\n",
            "   ----------------------------------- ---- 36.7/41.2 MB 462.6 kB/s eta 0:00:10\n",
            "   ----------------------------------- ---- 36.7/41.2 MB 462.6 kB/s eta 0:00:10\n",
            "   ----------------------------------- ---- 36.7/41.2 MB 462.6 kB/s eta 0:00:10\n",
            "   ----------------------------------- ---- 37.0/41.2 MB 463.1 kB/s eta 0:00:10\n",
            "   ----------------------------------- ---- 37.0/41.2 MB 463.1 kB/s eta 0:00:10\n",
            "   ----------------------------------- ---- 37.0/41.2 MB 463.1 kB/s eta 0:00:10\n",
            "   ------------------------------------ --- 37.2/41.2 MB 464.5 kB/s eta 0:00:09\n",
            "   ------------------------------------ --- 37.2/41.2 MB 464.5 kB/s eta 0:00:09\n",
            "   ------------------------------------ --- 37.2/41.2 MB 464.5 kB/s eta 0:00:09\n",
            "   ------------------------------------ --- 37.2/41.2 MB 464.5 kB/s eta 0:00:09\n",
            "   ------------------------------------ --- 37.2/41.2 MB 464.5 kB/s eta 0:00:09\n",
            "   ------------------------------------ --- 37.5/41.2 MB 461.8 kB/s eta 0:00:09\n",
            "   ------------------------------------ --- 37.5/41.2 MB 461.8 kB/s eta 0:00:09\n",
            "   ------------------------------------ --- 37.5/41.2 MB 461.8 kB/s eta 0:00:09\n",
            "   ------------------------------------ --- 37.5/41.2 MB 461.8 kB/s eta 0:00:09\n",
            "   ------------------------------------ --- 37.7/41.2 MB 458.9 kB/s eta 0:00:08\n",
            "   ------------------------------------ --- 37.7/41.2 MB 458.9 kB/s eta 0:00:08\n",
            "   ------------------------------------ --- 38.0/41.2 MB 462.6 kB/s eta 0:00:07\n",
            "   ------------------------------------ --- 38.0/41.2 MB 462.6 kB/s eta 0:00:07\n",
            "   ------------------------------------ --- 38.0/41.2 MB 462.6 kB/s eta 0:00:07\n",
            "   ------------------------------------- -- 38.3/41.2 MB 463.8 kB/s eta 0:00:07\n",
            "   ------------------------------------- -- 38.3/41.2 MB 463.8 kB/s eta 0:00:07\n",
            "   ------------------------------------- -- 38.5/41.2 MB 472.2 kB/s eta 0:00:06\n",
            "   ------------------------------------- -- 38.8/41.2 MB 475.6 kB/s eta 0:00:06\n",
            "   ------------------------------------- -- 38.8/41.2 MB 475.6 kB/s eta 0:00:06\n",
            "   ------------------------------------- -- 39.1/41.2 MB 481.6 kB/s eta 0:00:05\n",
            "   ------------------------------------- -- 39.1/41.2 MB 481.6 kB/s eta 0:00:05\n",
            "   -------------------------------------- - 39.3/41.2 MB 484.4 kB/s eta 0:00:04\n",
            "   -------------------------------------- - 39.3/41.2 MB 484.4 kB/s eta 0:00:04\n",
            "   -------------------------------------- - 39.6/41.2 MB 485.9 kB/s eta 0:00:04\n",
            "   -------------------------------------- - 39.6/41.2 MB 485.9 kB/s eta 0:00:04\n",
            "   -------------------------------------- - 39.6/41.2 MB 485.9 kB/s eta 0:00:04\n",
            "   -------------------------------------- - 39.8/41.2 MB 483.6 kB/s eta 0:00:03\n",
            "   -------------------------------------- - 39.8/41.2 MB 483.6 kB/s eta 0:00:03\n",
            "   -------------------------------------- - 39.8/41.2 MB 483.6 kB/s eta 0:00:03\n",
            "   -------------------------------------- - 39.8/41.2 MB 483.6 kB/s eta 0:00:03\n",
            "   -------------------------------------- - 40.1/41.2 MB 481.7 kB/s eta 0:00:03\n",
            "   -------------------------------------- - 40.1/41.2 MB 481.7 kB/s eta 0:00:03\n",
            "   ---------------------------------------  40.4/41.2 MB 483.9 kB/s eta 0:00:02\n",
            "   ---------------------------------------  40.4/41.2 MB 483.9 kB/s eta 0:00:02\n",
            "   ---------------------------------------  40.4/41.2 MB 483.9 kB/s eta 0:00:02\n",
            "   ---------------------------------------  40.4/41.2 MB 483.9 kB/s eta 0:00:02\n",
            "   ---------------------------------------  40.6/41.2 MB 481.6 kB/s eta 0:00:02\n",
            "   ---------------------------------------  40.6/41.2 MB 481.6 kB/s eta 0:00:02\n",
            "   ---------------------------------------  40.6/41.2 MB 481.6 kB/s eta 0:00:02\n",
            "   ---------------------------------------  40.6/41.2 MB 481.6 kB/s eta 0:00:02\n",
            "   ---------------------------------------  40.9/41.2 MB 498.1 kB/s eta 0:00:01\n",
            "   ---------------------------------------  40.9/41.2 MB 498.1 kB/s eta 0:00:01\n",
            "   ---------------------------------------  40.9/41.2 MB 498.1 kB/s eta 0:00:01\n",
            "   ---------------------------------------  41.2/41.2 MB 494.8 kB/s eta 0:00:01\n",
            "   ---------------------------------------  41.2/41.2 MB 494.8 kB/s eta 0:00:01\n",
            "   ---------------------------------------- 41.2/41.2 MB 493.4 kB/s eta 0:00:00\n",
            "Downloading threadpoolctl-3.6.0-py3-none-any.whl (18 kB)\n",
            "Installing collected packages: threadpoolctl, scipy, joblib, scikit-learn\n",
            "\n",
            "   ---------- ----------------------------- 1/4 [scipy]\n",
            "   ---------- ----------------------------- 1/4 [scipy]\n",
            "   ---------- ----------------------------- 1/4 [scipy]\n",
            "   ---------- ----------------------------- 1/4 [scipy]\n",
            "   ---------- ----------------------------- 1/4 [scipy]\n",
            "   ---------- ----------------------------- 1/4 [scipy]\n",
            "   ---------- ----------------------------- 1/4 [scipy]\n",
            "   ---------- ----------------------------- 1/4 [scipy]\n",
            "   ---------- ----------------------------- 1/4 [scipy]\n",
            "   ---------- ----------------------------- 1/4 [scipy]\n",
            "   ---------- ----------------------------- 1/4 [scipy]\n",
            "   ---------- ----------------------------- 1/4 [scipy]\n",
            "   ---------- ----------------------------- 1/4 [scipy]\n",
            "   ---------- ----------------------------- 1/4 [scipy]\n",
            "   ---------- ----------------------------- 1/4 [scipy]\n",
            "   ---------- ----------------------------- 1/4 [scipy]\n",
            "   ---------- ----------------------------- 1/4 [scipy]\n",
            "   ---------- ----------------------------- 1/4 [scipy]\n",
            "   ---------- ----------------------------- 1/4 [scipy]\n",
            "   ---------- ----------------------------- 1/4 [scipy]\n",
            "   ---------- ----------------------------- 1/4 [scipy]\n",
            "   ---------- ----------------------------- 1/4 [scipy]\n",
            "   ---------- ----------------------------- 1/4 [scipy]\n",
            "   ---------- ----------------------------- 1/4 [scipy]\n",
            "   ---------- ----------------------------- 1/4 [scipy]\n",
            "   ---------- ----------------------------- 1/4 [scipy]\n",
            "   ---------- ----------------------------- 1/4 [scipy]\n",
            "   -------------------- ------------------- 2/4 [joblib]\n",
            "   -------------------- ------------------- 2/4 [joblib]\n",
            "   ------------------------------ --------- 3/4 [scikit-learn]\n",
            "   ------------------------------ --------- 3/4 [scikit-learn]\n",
            "   ------------------------------ --------- 3/4 [scikit-learn]\n",
            "   ------------------------------ --------- 3/4 [scikit-learn]\n",
            "   ------------------------------ --------- 3/4 [scikit-learn]\n",
            "   ------------------------------ --------- 3/4 [scikit-learn]\n",
            "   ------------------------------ --------- 3/4 [scikit-learn]\n",
            "   ------------------------------ --------- 3/4 [scikit-learn]\n",
            "   ------------------------------ --------- 3/4 [scikit-learn]\n",
            "   ------------------------------ --------- 3/4 [scikit-learn]\n",
            "   ------------------------------ --------- 3/4 [scikit-learn]\n",
            "   ------------------------------ --------- 3/4 [scikit-learn]\n",
            "   ------------------------------ --------- 3/4 [scikit-learn]\n",
            "   ------------------------------ --------- 3/4 [scikit-learn]\n",
            "   ------------------------------ --------- 3/4 [scikit-learn]\n",
            "   ------------------------------ --------- 3/4 [scikit-learn]\n",
            "   ---------------------------------------- 4/4 [scikit-learn]\n",
            "\n",
            "Successfully installed joblib-1.5.1 scikit-learn-1.7.0 scipy-1.15.3 threadpoolctl-3.6.0\n"
          ]
        }
      ],
      "source": [
        "# !pip install scikit-learn\n"
      ]
    },
    {
      "cell_type": "code",
      "execution_count": 9,
      "metadata": {
        "id": "k4-K3diD2und"
      },
      "outputs": [],
      "source": [
        "import evaluate\n",
        "\n",
        "accuracy = evaluate.load(\"accuracy\")"
      ]
    },
    {
      "cell_type": "markdown",
      "metadata": {
        "id": "z676ZWuT2und"
      },
      "source": [
        "Then create a function that passes your predictions and labels to [compute](https://huggingface.co/docs/evaluate/main/en/package_reference/main_classes#evaluate.EvaluationModule.compute) to calculate the accuracy:"
      ]
    },
    {
      "cell_type": "code",
      "execution_count": 10,
      "metadata": {
        "id": "IV_TdzCt2und"
      },
      "outputs": [],
      "source": [
        "import numpy as np\n",
        "\n",
        "\n",
        "def compute_metrics(eval_pred):\n",
        "    predictions, labels = eval_pred\n",
        "    predictions = np.argmax(predictions, axis=1)\n",
        "    return accuracy.compute(predictions=predictions, references=labels)"
      ]
    },
    {
      "cell_type": "markdown",
      "metadata": {
        "id": "OnhbCxug2und"
      },
      "source": [
        "Your `compute_metrics` function is ready to go now, and you'll return to it when you setup your training."
      ]
    },
    {
      "cell_type": "markdown",
      "metadata": {
        "id": "alx3iDhp2und"
      },
      "source": [
        "## Train"
      ]
    },
    {
      "cell_type": "markdown",
      "metadata": {
        "id": "hoFf6Pau2und"
      },
      "source": [
        "Before you start training your model, create a map of the expected ids to their labels with `id2label` and `label2id`:"
      ]
    },
    {
      "cell_type": "code",
      "execution_count": 11,
      "metadata": {
        "id": "exR6Z4Ib2und"
      },
      "outputs": [],
      "source": [
        "id2label = {0: \"NEGATIVE\", 1: \"POSITIVE\"}\n",
        "label2id = {\"NEGATIVE\": 0, \"POSITIVE\": 1}"
      ]
    },
    {
      "cell_type": "markdown",
      "metadata": {
        "id": "aae_T3DR2und"
      },
      "source": [
        "<Tip>\n",
        "\n",
        "If you aren't familiar with finetuning a model with the [Trainer](https://huggingface.co/docs/transformers/main/en/main_classes/trainer#transformers.Trainer), take a look at the basic tutorial [here](https://huggingface.co/docs/transformers/main/en/tasks/../training#train-with-pytorch-trainer)!\n",
        "\n",
        "</Tip>\n",
        "\n",
        "You're ready to start training your model now! Load DistilBERT with [AutoModelForSequenceClassification](https://huggingface.co/docs/transformers/main/en/model_doc/auto#transformers.AutoModelForSequenceClassification) along with the number of expected labels, and the label mappings:"
      ]
    },
    {
      "cell_type": "code",
      "execution_count": 12,
      "metadata": {
        "id": "d-hNVhM62und"
      },
      "outputs": [
        {
          "name": "stderr",
          "output_type": "stream",
          "text": [
            "Some weights of DistilBertForSequenceClassification were not initialized from the model checkpoint at distilbert-base-uncased and are newly initialized: ['classifier.bias', 'classifier.weight', 'pre_classifier.bias', 'pre_classifier.weight']\n",
            "You should probably TRAIN this model on a down-stream task to be able to use it for predictions and inference.\n"
          ]
        }
      ],
      "source": [
        "from transformers import AutoModelForSequenceClassification, TrainingArguments, Trainer\n",
        "\n",
        "model = AutoModelForSequenceClassification.from_pretrained(\n",
        "    \"distilbert-base-uncased\", num_labels=2, id2label=id2label, label2id=label2id\n",
        ")"
      ]
    },
    {
      "cell_type": "markdown",
      "metadata": {
        "id": "hisFE3tf2und"
      },
      "source": [
        "At this point, only three steps remain:\n",
        "\n",
        "1. Define your training hyperparameters in [TrainingArguments](https://huggingface.co/docs/transformers/main/en/main_classes/trainer#transformers.TrainingArguments). The only required parameter is `output_dir` which specifies where to save your model. You'll push this model to the Hub by setting `push_to_hub=True` (you need to be signed in to Hugging Face to upload your model). At the end of each epoch, the [Trainer](https://huggingface.co/docs/transformers/main/en/main_classes/trainer#transformers.Trainer) will evaluate the accuracy and save the training checkpoint.\n",
        "2. Pass the training arguments to [Trainer](https://huggingface.co/docs/transformers/main/en/main_classes/trainer#transformers.Trainer) along with the model, dataset, tokenizer, data collator, and `compute_metrics` function.\n",
        "3. Call [train()](https://huggingface.co/docs/transformers/main/en/main_classes/trainer#transformers.Trainer.train) to finetune your model."
      ]
    },
    {
      "cell_type": "code",
      "execution_count": null,
      "metadata": {},
      "outputs": [
        {
          "name": "stdout",
          "output_type": "stream",
          "text": [
            "Collecting accelerate>=0.26.0\n",
            "  Downloading accelerate-1.7.0-py3-none-any.whl.metadata (19 kB)\n",
            "Requirement already satisfied: numpy<3.0.0,>=1.17 in c:\\users\\ahana\\onedrive\\desktop\\hugging_face_llm\\.venv\\lib\\site-packages (from accelerate>=0.26.0) (2.3.0)\n",
            "Requirement already satisfied: packaging>=20.0 in c:\\users\\ahana\\onedrive\\desktop\\hugging_face_llm\\.venv\\lib\\site-packages (from accelerate>=0.26.0) (25.0)\n",
            "Requirement already satisfied: psutil in c:\\users\\ahana\\onedrive\\desktop\\hugging_face_llm\\.venv\\lib\\site-packages (from accelerate>=0.26.0) (7.0.0)\n",
            "Requirement already satisfied: pyyaml in c:\\users\\ahana\\onedrive\\desktop\\hugging_face_llm\\.venv\\lib\\site-packages (from accelerate>=0.26.0) (6.0.2)\n",
            "Requirement already satisfied: torch>=2.0.0 in c:\\users\\ahana\\onedrive\\desktop\\hugging_face_llm\\.venv\\lib\\site-packages (from accelerate>=0.26.0) (2.7.1+cu128)\n",
            "Requirement already satisfied: huggingface-hub>=0.21.0 in c:\\users\\ahana\\onedrive\\desktop\\hugging_face_llm\\.venv\\lib\\site-packages (from accelerate>=0.26.0) (0.32.4)\n",
            "Requirement already satisfied: safetensors>=0.4.3 in c:\\users\\ahana\\onedrive\\desktop\\hugging_face_llm\\.venv\\lib\\site-packages (from accelerate>=0.26.0) (0.5.3)\n",
            "Requirement already satisfied: filelock in c:\\users\\ahana\\onedrive\\desktop\\hugging_face_llm\\.venv\\lib\\site-packages (from huggingface-hub>=0.21.0->accelerate>=0.26.0) (3.18.0)\n",
            "Requirement already satisfied: fsspec>=2023.5.0 in c:\\users\\ahana\\onedrive\\desktop\\hugging_face_llm\\.venv\\lib\\site-packages (from huggingface-hub>=0.21.0->accelerate>=0.26.0) (2025.3.0)\n",
            "Requirement already satisfied: requests in c:\\users\\ahana\\onedrive\\desktop\\hugging_face_llm\\.venv\\lib\\site-packages (from huggingface-hub>=0.21.0->accelerate>=0.26.0) (2.32.4)\n",
            "Requirement already satisfied: tqdm>=4.42.1 in c:\\users\\ahana\\onedrive\\desktop\\hugging_face_llm\\.venv\\lib\\site-packages (from huggingface-hub>=0.21.0->accelerate>=0.26.0) (4.67.1)\n",
            "Requirement already satisfied: typing-extensions>=3.7.4.3 in c:\\users\\ahana\\onedrive\\desktop\\hugging_face_llm\\.venv\\lib\\site-packages (from huggingface-hub>=0.21.0->accelerate>=0.26.0) (4.14.0)\n",
            "Requirement already satisfied: sympy>=1.13.3 in c:\\users\\ahana\\onedrive\\desktop\\hugging_face_llm\\.venv\\lib\\site-packages (from torch>=2.0.0->accelerate>=0.26.0) (1.13.3)\n",
            "Requirement already satisfied: networkx in c:\\users\\ahana\\onedrive\\desktop\\hugging_face_llm\\.venv\\lib\\site-packages (from torch>=2.0.0->accelerate>=0.26.0) (3.3)\n",
            "Requirement already satisfied: jinja2 in c:\\users\\ahana\\onedrive\\desktop\\hugging_face_llm\\.venv\\lib\\site-packages (from torch>=2.0.0->accelerate>=0.26.0) (3.1.4)\n",
            "Requirement already satisfied: mpmath<1.4,>=1.1.0 in c:\\users\\ahana\\onedrive\\desktop\\hugging_face_llm\\.venv\\lib\\site-packages (from sympy>=1.13.3->torch>=2.0.0->accelerate>=0.26.0) (1.3.0)\n",
            "Requirement already satisfied: colorama in c:\\users\\ahana\\onedrive\\desktop\\hugging_face_llm\\.venv\\lib\\site-packages (from tqdm>=4.42.1->huggingface-hub>=0.21.0->accelerate>=0.26.0) (0.4.6)\n",
            "Requirement already satisfied: MarkupSafe>=2.0 in c:\\users\\ahana\\onedrive\\desktop\\hugging_face_llm\\.venv\\lib\\site-packages (from jinja2->torch>=2.0.0->accelerate>=0.26.0) (2.1.5)\n",
            "Requirement already satisfied: charset_normalizer<4,>=2 in c:\\users\\ahana\\onedrive\\desktop\\hugging_face_llm\\.venv\\lib\\site-packages (from requests->huggingface-hub>=0.21.0->accelerate>=0.26.0) (3.4.2)\n",
            "Requirement already satisfied: idna<4,>=2.5 in c:\\users\\ahana\\onedrive\\desktop\\hugging_face_llm\\.venv\\lib\\site-packages (from requests->huggingface-hub>=0.21.0->accelerate>=0.26.0) (3.10)\n",
            "Requirement already satisfied: urllib3<3,>=1.21.1 in c:\\users\\ahana\\onedrive\\desktop\\hugging_face_llm\\.venv\\lib\\site-packages (from requests->huggingface-hub>=0.21.0->accelerate>=0.26.0) (2.4.0)\n",
            "Requirement already satisfied: certifi>=2017.4.17 in c:\\users\\ahana\\onedrive\\desktop\\hugging_face_llm\\.venv\\lib\\site-packages (from requests->huggingface-hub>=0.21.0->accelerate>=0.26.0) (2025.4.26)\n",
            "Downloading accelerate-1.7.0-py3-none-any.whl (362 kB)\n",
            "Installing collected packages: accelerate\n",
            "Successfully installed accelerate-1.7.0\n"
          ]
        }
      ],
      "source": [
        "# import sys\n",
        "# !{sys.executable} -m pip install \"accelerate>=0.26.0\"\n"
      ]
    },
    {
      "cell_type": "code",
      "execution_count": 13,
      "metadata": {
        "id": "9ccnNH0C2und"
      },
      "outputs": [
        {
          "name": "stderr",
          "output_type": "stream",
          "text": [
            "C:\\Users\\Ahana\\AppData\\Local\\Temp\\ipykernel_19984\\1410217825.py:14: FutureWarning: `tokenizer` is deprecated and will be removed in version 5.0.0 for `Trainer.__init__`. Use `processing_class` instead.\n",
            "  trainer = Trainer(\n"
          ]
        },
        {
          "data": {
            "text/html": [
              "\n",
              "    <div>\n",
              "      \n",
              "      <progress value='3126' max='3126' style='width:300px; height:20px; vertical-align: middle;'></progress>\n",
              "      [3126/3126 46:15, Epoch 2/2]\n",
              "    </div>\n",
              "    <table border=\"1\" class=\"dataframe\">\n",
              "  <thead>\n",
              " <tr style=\"text-align: left;\">\n",
              "      <th>Epoch</th>\n",
              "      <th>Training Loss</th>\n",
              "      <th>Validation Loss</th>\n",
              "      <th>Accuracy</th>\n",
              "    </tr>\n",
              "  </thead>\n",
              "  <tbody>\n",
              "    <tr>\n",
              "      <td>1</td>\n",
              "      <td>0.222500</td>\n",
              "      <td>0.193103</td>\n",
              "      <td>0.925960</td>\n",
              "    </tr>\n",
              "    <tr>\n",
              "      <td>2</td>\n",
              "      <td>0.144700</td>\n",
              "      <td>0.233243</td>\n",
              "      <td>0.932880</td>\n",
              "    </tr>\n",
              "  </tbody>\n",
              "</table><p>"
            ],
            "text/plain": [
              "<IPython.core.display.HTML object>"
            ]
          },
          "metadata": {},
          "output_type": "display_data"
        },
        {
          "data": {
            "text/plain": [
              "TrainOutput(global_step=3126, training_loss=0.20379944970343866, metrics={'train_runtime': 2777.1888, 'train_samples_per_second': 18.004, 'train_steps_per_second': 1.126, 'total_flos': 6556904415524352.0, 'train_loss': 0.20379944970343866, 'epoch': 2.0})"
            ]
          },
          "execution_count": 13,
          "metadata": {},
          "output_type": "execute_result"
        }
      ],
      "source": [
        "training_args = TrainingArguments(\n",
        "    output_dir=\"my_awesome_model\",\n",
        "    learning_rate=2e-5,\n",
        "    per_device_train_batch_size=16,\n",
        "    per_device_eval_batch_size=16,\n",
        "    num_train_epochs=2,\n",
        "    weight_decay=0.01,\n",
        "    eval_strategy=\"epoch\",\n",
        "    save_strategy=\"epoch\",\n",
        "    load_best_model_at_end=True,\n",
        "    push_to_hub=True,\n",
        ")\n",
        "\n",
        "trainer = Trainer(\n",
        "    model=model,\n",
        "    args=training_args,\n",
        "    train_dataset=tokenized_imdb[\"train\"],\n",
        "    eval_dataset=tokenized_imdb[\"test\"],\n",
        "    tokenizer=tokenizer,\n",
        "    data_collator=data_collator,\n",
        "    compute_metrics=compute_metrics,\n",
        ")\n",
        "\n",
        "trainer.train()"
      ]
    },
    {
      "cell_type": "markdown",
      "metadata": {
        "id": "THmh1-I72und"
      },
      "source": [
        "<Tip>\n",
        "\n",
        "[Trainer](https://huggingface.co/docs/transformers/main/en/main_classes/trainer#transformers.Trainer) applies dynamic padding by default when you pass `tokenizer` to it. In this case, you don't need to specify a data collator explicitly.\n",
        "\n",
        "</Tip>\n",
        "\n",
        "Once training is completed, share your model to the Hub with the [push_to_hub()](https://huggingface.co/docs/transformers/main/en/main_classes/trainer#transformers.Trainer.push_to_hub) method so everyone can use your model:"
      ]
    },
    {
      "cell_type": "code",
      "execution_count": 14,
      "metadata": {
        "id": "JegJxEMw2und"
      },
      "outputs": [
        {
          "data": {
            "text/plain": [
              "CommitInfo(commit_url='https://huggingface.co/AhChat/my_awesome_model/commit/6bbef6b83ee6ab47d1fa2b9da995a359db08b6ea', commit_message='End of training', commit_description='', oid='6bbef6b83ee6ab47d1fa2b9da995a359db08b6ea', pr_url=None, repo_url=RepoUrl('https://huggingface.co/AhChat/my_awesome_model', endpoint='https://huggingface.co', repo_type='model', repo_id='AhChat/my_awesome_model'), pr_revision=None, pr_num=None)"
            ]
          },
          "execution_count": 14,
          "metadata": {},
          "output_type": "execute_result"
        }
      ],
      "source": [
        "trainer.push_to_hub()"
      ]
    },
    {
      "cell_type": "markdown",
      "metadata": {
        "id": "DdkqslB_2und"
      },
      "source": [
        "<Tip>\n",
        "\n",
        "For a more in-depth example of how to finetune a model for text classification, take a look at the corresponding\n",
        "[PyTorch notebook](https://colab.research.google.com/github/huggingface/notebooks/blob/main/examples/text_classification.ipynb)\n",
        "or [TensorFlow notebook](https://colab.research.google.com/github/huggingface/notebooks/blob/main/examples/text_classification-tf.ipynb).\n",
        "\n",
        "</Tip>"
      ]
    },
    {
      "cell_type": "markdown",
      "metadata": {
        "id": "_ROcZiTL2und"
      },
      "source": [
        "## Inference"
      ]
    },
    {
      "cell_type": "markdown",
      "metadata": {
        "id": "p-u44UiQ2und"
      },
      "source": [
        "Great, now that you've finetuned a model, you can use it for inference!\n",
        "\n",
        "Grab some text you'd like to run inference on:"
      ]
    },
    {
      "cell_type": "code",
      "execution_count": 15,
      "metadata": {
        "id": "I6cK5q2V2und"
      },
      "outputs": [],
      "source": [
        "text = \"This was a masterpiece. Not completely faithful to the books, but enthralling from beginning to end. Might be my favorite of the three.\""
      ]
    },
    {
      "cell_type": "markdown",
      "metadata": {
        "id": "EodAvxnv2ung"
      },
      "source": [
        "The simplest way to try out your finetuned model for inference is to use it in a [pipeline()](https://huggingface.co/docs/transformers/main/en/main_classes/pipelines#transformers.pipeline). Instantiate a `pipeline` for sentiment analysis with your model, and pass your text to it:"
      ]
    },
    {
      "cell_type": "code",
      "execution_count": 17,
      "metadata": {
        "id": "NeFzH7yU2ung",
        "outputId": "799cedeb-96e5-425e-badf-03c086baa8aa"
      },
      "outputs": [
        {
          "data": {
            "application/vnd.jupyter.widget-view+json": {
              "model_id": "7f56e4eda5f24de286da8aae321a2443",
              "version_major": 2,
              "version_minor": 0
            },
            "text/plain": [
              "config.json:   0%|          | 0.00/721 [00:00<?, ?B/s]"
            ]
          },
          "metadata": {},
          "output_type": "display_data"
        },
        {
          "name": "stderr",
          "output_type": "stream",
          "text": [
            "c:\\Users\\Ahana\\OneDrive\\Desktop\\Hugging_face_LLM\\.venv\\Lib\\site-packages\\huggingface_hub\\file_download.py:143: UserWarning: `huggingface_hub` cache-system uses symlinks by default to efficiently store duplicated files but your machine does not support them in C:\\Users\\Ahana\\.cache\\huggingface\\hub\\models--AhChat--my_awesome_model. Caching files will still work but in a degraded version that might require more space on your disk. This warning can be disabled by setting the `HF_HUB_DISABLE_SYMLINKS_WARNING` environment variable. For more details, see https://huggingface.co/docs/huggingface_hub/how-to-cache#limitations.\n",
            "To support symlinks on Windows, you either need to activate Developer Mode or to run Python as an administrator. In order to activate developer mode, see this article: https://docs.microsoft.com/en-us/windows/apps/get-started/enable-your-device-for-development\n",
            "  warnings.warn(message)\n",
            "Xet Storage is enabled for this repo, but the 'hf_xet' package is not installed. Falling back to regular HTTP download. For better performance, install the package with: `pip install huggingface_hub[hf_xet]` or `pip install hf_xet`\n"
          ]
        },
        {
          "data": {
            "application/vnd.jupyter.widget-view+json": {
              "model_id": "5410fc77af55420b870e62efc52baf71",
              "version_major": 2,
              "version_minor": 0
            },
            "text/plain": [
              "model.safetensors:   0%|          | 0.00/268M [00:00<?, ?B/s]"
            ]
          },
          "metadata": {},
          "output_type": "display_data"
        },
        {
          "data": {
            "application/vnd.jupyter.widget-view+json": {
              "model_id": "095d34b064394d58acfefce8a989cb6a",
              "version_major": 2,
              "version_minor": 0
            },
            "text/plain": [
              "tokenizer_config.json:   0%|          | 0.00/1.28k [00:00<?, ?B/s]"
            ]
          },
          "metadata": {},
          "output_type": "display_data"
        },
        {
          "data": {
            "application/vnd.jupyter.widget-view+json": {
              "model_id": "26a97fb0de4e4950a080172fe14489bb",
              "version_major": 2,
              "version_minor": 0
            },
            "text/plain": [
              "vocab.txt:   0%|          | 0.00/232k [00:00<?, ?B/s]"
            ]
          },
          "metadata": {},
          "output_type": "display_data"
        },
        {
          "data": {
            "application/vnd.jupyter.widget-view+json": {
              "model_id": "b862b7ab35f24ff08fba5278589b32e9",
              "version_major": 2,
              "version_minor": 0
            },
            "text/plain": [
              "tokenizer.json:   0%|          | 0.00/711k [00:00<?, ?B/s]"
            ]
          },
          "metadata": {},
          "output_type": "display_data"
        },
        {
          "data": {
            "application/vnd.jupyter.widget-view+json": {
              "model_id": "695a016a64864427a39d280ed1059bd5",
              "version_major": 2,
              "version_minor": 0
            },
            "text/plain": [
              "special_tokens_map.json:   0%|          | 0.00/132 [00:00<?, ?B/s]"
            ]
          },
          "metadata": {},
          "output_type": "display_data"
        },
        {
          "name": "stderr",
          "output_type": "stream",
          "text": [
            "Device set to use cuda:0\n"
          ]
        },
        {
          "data": {
            "text/plain": [
              "[{'label': 'POSITIVE', 'score': 0.9952744245529175}]"
            ]
          },
          "execution_count": 17,
          "metadata": {},
          "output_type": "execute_result"
        }
      ],
      "source": [
        "from transformers import pipeline\n",
        "\n",
        "classifier = pipeline(\"sentiment-analysis\", model=\"AhChat/my_awesome_model\")\n",
        "classifier(text)"
      ]
    },
    {
      "cell_type": "markdown",
      "metadata": {
        "id": "qg2KbYg42unh"
      },
      "source": [
        "You can also manually replicate the results of the `pipeline` if you'd like:\n",
        "\n",
        "Tokenize the text and return PyTorch tensors:"
      ]
    },
    {
      "cell_type": "code",
      "execution_count": 18,
      "metadata": {
        "id": "6_I0jCvY2unh"
      },
      "outputs": [],
      "source": [
        "from transformers import AutoTokenizer\n",
        "\n",
        "tokenizer = AutoTokenizer.from_pretrained(\"AhChat/my_awesome_model\")\n",
        "inputs = tokenizer(text, return_tensors=\"pt\")"
      ]
    },
    {
      "cell_type": "markdown",
      "metadata": {
        "id": "AV4dtqNI2unh"
      },
      "source": [
        "Pass your inputs to the model and return the `logits`:"
      ]
    },
    {
      "cell_type": "code",
      "execution_count": 21,
      "metadata": {
        "id": "wZHZkTID2unh"
      },
      "outputs": [],
      "source": [
        "from transformers import AutoModelForSequenceClassification\n",
        "import torch\n",
        "\n",
        "model = AutoModelForSequenceClassification.from_pretrained(\"AhChat/my_awesome_model\")\n",
        "with torch.no_grad():\n",
        "    logits = model(**inputs).logits"
      ]
    },
    {
      "cell_type": "markdown",
      "metadata": {
        "id": "zUrqwZhP2unh"
      },
      "source": [
        "Get the class with the highest probability, and use the model's `id2label` mapping to convert it to a text label:"
      ]
    },
    {
      "cell_type": "code",
      "execution_count": 22,
      "metadata": {
        "id": "oI_Eh_lD2unh",
        "outputId": "cfdb5a4b-5a1b-4e85-b3ff-97360a74a7fd"
      },
      "outputs": [
        {
          "data": {
            "text/plain": [
              "'POSITIVE'"
            ]
          },
          "execution_count": 22,
          "metadata": {},
          "output_type": "execute_result"
        }
      ],
      "source": [
        "predicted_class_id = logits.argmax().item()\n",
        "model.config.id2label[predicted_class_id]"
      ]
    }
  ],
  "metadata": {
    "colab": {
      "provenance": []
    },
    "kernelspec": {
      "display_name": ".venv",
      "language": "python",
      "name": "python3"
    },
    "language_info": {
      "codemirror_mode": {
        "name": "ipython",
        "version": 3
      },
      "file_extension": ".py",
      "mimetype": "text/x-python",
      "name": "python",
      "nbconvert_exporter": "python",
      "pygments_lexer": "ipython3",
      "version": "3.11.9"
    }
  },
  "nbformat": 4,
  "nbformat_minor": 0
}
